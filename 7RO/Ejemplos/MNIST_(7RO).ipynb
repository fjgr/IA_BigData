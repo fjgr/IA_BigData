{
  "nbformat": 4,
  "nbformat_minor": 0,
  "metadata": {
    "colab": {
      "provenance": [],
      "authorship_tag": "ABX9TyM8n4QYykjr89VmOxKqu73H",
      "include_colab_link": true
    },
    "kernelspec": {
      "name": "python3",
      "display_name": "Python 3"
    },
    "language_info": {
      "name": "python"
    }
  },
  "cells": [
    {
      "cell_type": "markdown",
      "metadata": {
        "id": "view-in-github",
        "colab_type": "text"
      },
      "source": [
        "<a href=\"https://colab.research.google.com/github/fjgr/IA_BigData/blob/main/7RO/Ejemplos/MNIST_(7RO).ipynb\" target=\"_parent\"><img src=\"https://colab.research.google.com/assets/colab-badge.svg\" alt=\"Open In Colab\"/></a>"
      ]
    },
    {
      "cell_type": "code",
      "source": [
        "# Importar librerías\n",
        "import pandas as pd\n",
        "import numpy as np\n",
        "from sklearn.model_selection import train_test_split\n",
        "from sklearn.preprocessing import StandardScaler\n",
        "import tensorflow as tf\n",
        "from tensorflow.keras.models import Sequential\n",
        "from tensorflow.keras.layers import Dense\n",
        "\n",
        "# Generar el dataset (peso, altura, IMC)\n",
        "np.random.seed(42)\n",
        "def generar_dataset(num_filas):\n",
        "    alturas = np.round(np.random.uniform(1.4, 2.0, num_filas), 2)\n",
        "    pesos = np.round(np.random.uniform(40, 120, num_filas), 1)\n",
        "    imc = np.round(pesos / (alturas ** 2), 2)\n",
        "    return pd.DataFrame({'peso': pesos, 'altura': alturas, 'IMC': imc})\n",
        "\n",
        "# Crear dataset de 1000 filas\n",
        "dataset = generar_dataset(1000)\n",
        "\n",
        "# Dividir datos en entrenamiento y prueba\n",
        "X = dataset[['peso', 'altura']].values  # Entradas: peso y altura\n",
        "y = dataset['IMC'].values  # Salida: IMC\n",
        "\n",
        "X_train, X_test, y_train, y_test = train_test_split(X, y, test_size=0.2, random_state=42)\n",
        "\n",
        "# Escalar las entradas\n",
        "scaler = StandardScaler()\n",
        "X_train = scaler.fit_transform(X_train)\n",
        "X_test = scaler.transform(X_test)\n",
        "\n",
        "# Definir la arquitectura de la red neuronal\n",
        "model = Sequential([\n",
        "    Dense(64, activation='relu', input_shape=(2,)),  # Capa oculta con 64 neuronas\n",
        "    Dense(32, activation='relu'),                   # Segunda capa oculta con 32 neuronas\n",
        "    Dense(1, activation='linear')                   # Capa de salida para regresión\n",
        "])\n",
        "\n",
        "# Compilar el modelo\n",
        "model.compile(optimizer='adam', loss='mse', metrics=['mae'])\n",
        "\n",
        "# Entrenar el modelo\n",
        "history = model.fit(X_train, y_train, epochs=50, batch_size=16, validation_data=(X_test, y_test))\n",
        "\n",
        "# Evaluar el modelo\n",
        "loss, mae = model.evaluate(X_test, y_test)\n",
        "print(f\"Pérdida (MSE): {loss:.4f}, Error Absoluto Medio (MAE): {mae:.4f}\")\n",
        "\n",
        "# Realizar predicciones\n",
        "nuevos_datos = np.array([[70, 1.75], [90, 1.8]])  # Ejemplo de peso y altura\n",
        "nuevos_datos = scaler.transform(nuevos_datos)\n",
        "predicciones = model.predict(nuevos_datos)\n",
        "\n",
        "print(\"Predicción de IMC para nuevos datos:\")\n",
        "for i, imc_pred in enumerate(predicciones):\n",
        "    print(f\"Peso: {nuevos_datos[i][0]:.2f}, Altura: {nuevos_datos[i][1]:.2f}, IMC Predicho: {imc_pred[0]:.2f}\")\n"
      ],
      "metadata": {
        "id": "1F50n__wDOrB"
      },
      "execution_count": null,
      "outputs": []
    }
  ]
}