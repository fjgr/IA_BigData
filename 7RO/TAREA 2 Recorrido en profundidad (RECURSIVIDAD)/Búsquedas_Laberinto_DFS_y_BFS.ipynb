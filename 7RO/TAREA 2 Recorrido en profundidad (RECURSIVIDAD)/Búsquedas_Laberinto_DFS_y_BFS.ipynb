{
  "nbformat": 4,
  "nbformat_minor": 0,
  "metadata": {
    "colab": {
      "provenance": [],
      "authorship_tag": "ABX9TyNPtaAt6Zy4NlCDciRceu6V",
      "include_colab_link": true
    },
    "kernelspec": {
      "name": "python3",
      "display_name": "Python 3"
    },
    "language_info": {
      "name": "python"
    }
  },
  "cells": [
    {
      "cell_type": "markdown",
      "metadata": {
        "id": "view-in-github",
        "colab_type": "text"
      },
      "source": [
        "<a href=\"https://colab.research.google.com/github/fjgr/IA_BigData/blob/main/7RO/TAREA%202%20Recorrido%20en%20profundidad%20(RECURSIVIDAD)/B%C3%BAsquedas_Laberinto_DFS_y_BFS.ipynb\" target=\"_parent\"><img src=\"https://colab.research.google.com/assets/colab-badge.svg\" alt=\"Open In Colab\"/></a>"
      ]
    },
    {
      "cell_type": "markdown",
      "source": [
        "Busqueda en un laberinto de n=51 con algoritmo DFS"
      ],
      "metadata": {
        "id": "_WWm__sw6sD5"
      }
    },
    {
      "cell_type": "code",
      "source": [
        "import numpy as np\n",
        "import matplotlib.pyplot as plt\n",
        "import matplotlib.colors as mcolors\n",
        "\n",
        "# Dimensiones del laberinto\n",
        "N = 51\n",
        "\n",
        "# Crear la matriz MAZE y configurar el borde a 1\n",
        "MAZE = np.zeros((N, N), dtype=int)\n",
        "MAZE[0, :] = MAZE[-1, :] = MAZE[:, 0] = MAZE[:, -1] = 1  # Borde\n",
        "\n",
        "# Configurar la entrada y la salida\n",
        "MAZE[1, 1] = 2  # Inicio en (1, 1), marcada como 2.\n",
        "MAZE[49, 49] = 3  # Fin en (49, 49), marcada como 3.\n",
        "\n",
        "# Crear la matriz MARK como copia de MAZE para registrar las posiciones visitadas\n",
        "MARK = MAZE.copy()\n",
        "\n",
        "# Función para verificar si una posición es válida y no ha sido visitada\n",
        "def es_valida(x, y):\n",
        "    return 0 <= x < N and 0 <= y < N and MAZE[x, y] != 1 and MARK[x, y] < 4\n",
        "\n",
        "# Función de búsqueda en profundidad iterativa con pila\n",
        "def dfs_iterativo(inicio, fin):\n",
        "    pila = [inicio]  # Inicializamos la pila con el punto de inicio\n",
        "    MARK[inicio[0], inicio[1]] = 4  # Marcar la posición de inicio como visitada\n",
        "\n",
        "    # Movimientos posibles (arriba, derecha, abajo, izquierda, )\n",
        "    movimientos = [(0, -1), (1, 0), (0, 1), (-1, 0)]\n",
        "\n",
        "    while pila:\n",
        "        x, y = pila.pop()  # Sacar el último elemento de la pila (LIFO)\n",
        "\n",
        "        # Si llegamos a la posición de fin, terminamos\n",
        "        if (x, y) == fin:\n",
        "            print(\"Solución encontrada!\")\n",
        "            return True\n",
        "\n",
        "        # Explorar las posiciones adyacentes\n",
        "        for dx, dy in movimientos:\n",
        "            nx, ny = x + dx, y + dy\n",
        "            if es_valida(nx, ny):  # Verificar si es válida y no ha sido visitada\n",
        "                MARK[nx, ny] = 4  # Marcar como visitada con valor 4\n",
        "                pila.append((nx, ny))  # Añadir la posición a la pila\n",
        "\n",
        "    print(\"No se encontró solución.\")\n",
        "    return False\n",
        "\n",
        "# Coordenadas de inicio y fin\n",
        "inicio = (1, 1)\n",
        "fin = (49, 49)\n",
        "\n",
        "# Ejecutar el algoritmo DFS iterativo\n",
        "dfs_iterativo(inicio, fin)\n",
        "\n",
        "# Crear el mapa de colores personalizado para cada valor\n",
        "colors = {\n",
        "    0: \"white\",    # Pasillo\n",
        "    1: \"grey\",     # Borde\n",
        "    2: \"orange\",   # Entrada\n",
        "    3: \"green\",    # Salida\n",
        "    4: \"yellow\"    # Posición visitada\n",
        "}\n",
        "\n",
        "# Crear una lista de colores en orden de los valores únicos de la matriz\n",
        "cmap_values = [colors[val] for val in sorted(colors.keys())]\n",
        "\n",
        "# Crear un mapa de colores discreto personalizado\n",
        "cmap = mcolors.ListedColormap(cmap_values)\n",
        "\n",
        "# Mapa de valores (bounds) para asociar cada color con un rango de valores\n",
        "bounds = [0, 1, 2, 3, 4, 5]  # Ajustar para que coincida con el número de colores\n",
        "norm = mcolors.BoundaryNorm(bounds, cmap.N)\n",
        "\n",
        "# Función de visualización de la matriz con el mapa de colores personalizado\n",
        "def ver_matriz(x):\n",
        "    plt.figure()\n",
        "    plt.imshow(x, cmap=cmap, norm=norm)\n",
        "    plt.colorbar(ticks=np.arange(len(bounds)-1))  # Mostrar leyenda con colores personalizados\n",
        "    plt.grid(False)\n",
        "    plt.show()\n",
        "\n",
        "# Visualizar MAZE y MARK\n",
        "print(\"Visualización de MAZE:\")\n",
        "ver_matriz(MAZE)\n",
        "\n",
        "print(\"Visualización de MARK (Posiciones visitadas):\")\n",
        "ver_matriz(MARK)\n"
      ],
      "metadata": {
        "colab": {
          "base_uri": "https://localhost:8080/",
          "height": 899
        },
        "id": "3kJcKsxk_-zA",
        "outputId": "adf71894-8c95-4c18-94e4-bcad96dec00b"
      },
      "execution_count": null,
      "outputs": [
        {
          "output_type": "stream",
          "name": "stdout",
          "text": [
            "Solución encontrada!\n",
            "Visualización de MAZE:\n"
          ]
        },
        {
          "output_type": "display_data",
          "data": {
            "text/plain": [
              "<Figure size 640x480 with 2 Axes>"
            ],
            "image/png": "[encoded data removed]"
          },
          "metadata": {}
        },
        {
          "output_type": "stream",
          "name": "stdout",
          "text": [
            "Visualización de MARK (Posiciones visitadas):\n"
          ]
        },
        {
          "output_type": "display_data",
          "data": {
            "text/plain": [
              "<Figure size 640x480 with 2 Axes>"
            ],
            "image/png": "[encoded data removed]"
          },
          "metadata": {}
        }
      ]
    },
    {
      "cell_type": "markdown",
      "source": [
        "Busqueda en un laberinto de n=11 con algoritmo BFS"
      ],
      "metadata": {
        "id": "GUnP5khzBV5t"
      }
    },
    {
      "cell_type": "code",
      "source": [
        "from typing import Collection\n",
        "import numpy as np\n",
        "import matplotlib.pyplot as plt\n",
        "import matplotlib.colors as mcolors\n",
        "\n",
        "# Dimensiones del laberinto\n",
        "N = 51\n",
        "\n",
        "# Crear la matriz MAZE y configurar el borde a 1\n",
        "MAZE = np.zeros((N, N), dtype=int)\n",
        "MAZE[0, :] = MAZE[-1, :] = MAZE[:, 0] = MAZE[:, -1] = 1  # Borde\n",
        "\n",
        "# Configurar la entrada y la salida\n",
        "MAZE[1, 1] = 2  # Inicio en (1, 1), marcada como 2.\n",
        "MAZE[49, 49] = 3  # Fin en (9, 9), marcada como 3.\n",
        "\n",
        "# Crear la matriz MARK como copia de MAZE para registrar las posiciones visitadas\n",
        "MARK = MAZE.copy()\n",
        "\n",
        "# Función para verificar si una posición es válida y no ha sido visitada\n",
        "def es_valida(x, y):\n",
        "    return 0 <= x < N and 0 <= y < N and MAZE[x, y] != 1 and MARK[x, y] < 4\n",
        "\n",
        "# Función de búsqueda en anchura iterativa con cola\n",
        "from collections import deque\n",
        "\n",
        "def bfs_iterativo(inicio, fin):\n",
        "    cola = deque([inicio])  # Inicializamos la cola con el punto de inicio\n",
        "    MARK[inicio[0], inicio[1]] = 4  # Marcar la posición de inicio como visitada\n",
        "\n",
        "    # Movimientos posibles (arriba, derecha, abajo, izquierda)\n",
        "    movimientos = [(0, -1), (1, 0), (0, 1), (-1, 0)]\n",
        "\n",
        "    while cola:\n",
        "        x, y = cola.popleft()  # Sacar el primer elemento de la cola (FIFO)\n",
        "\n",
        "        # Si llegamos a la posición de fin, terminamos\n",
        "        if (x, y) == fin:\n",
        "            print(\"Solución encontrada!\")\n",
        "            return True\n",
        "\n",
        "        # Explorar las posiciones adyacentes\n",
        "        for dx, dy in movimientos:\n",
        "            nx, ny = x + dx, y + dy\n",
        "            if es_valida(nx, ny):  # Verificar si es válida y no ha sido visitada\n",
        "                MARK[nx, ny] = 4  # Marcar como visitada con valor 4\n",
        "                cola.append((nx, ny))  # Añadir la posición a la cola\n",
        "\n",
        "    print(\"No se encontró solución.\")\n",
        "    return False\n",
        "\n",
        "# Coordenadas de inicio y fin\n",
        "inicio = (1, 1)\n",
        "fin = (49, 49)\n",
        "\n",
        "# Ejecutar el algoritmo BFS iterativo\n",
        "bfs_iterativo(inicio, fin)\n",
        "\n",
        "# Crear el mapa de colores personalizado para cada valor\n",
        "colors = {\n",
        "    0: \"white\",    # Pasillo\n",
        "    1: \"grey\",     # Borde\n",
        "    2: \"orange\",   # Entrada\n",
        "    3: \"green\",    # Salida\n",
        "    4: \"yellow\"    # Posición visitada\n",
        "}\n",
        "\n",
        "# Crear una lista de colores en orden de los valores únicos de la matriz\n",
        "cmap_values = [colors[val] for val in sorted(colors.keys())]\n",
        "\n",
        "# Crear un mapa de colores discreto personalizado\n",
        "cmap = mcolors.ListedColormap(cmap_values)\n",
        "\n",
        "# Mapa de valores (bounds) para asociar cada color con un rango de valores\n",
        "bounds = [0, 1, 2, 3, 4, 5]  # Ajustar para que coincida con el número de colores\n",
        "norm = mcolors.BoundaryNorm(bounds, cmap.N)\n",
        "\n",
        "# Función de visualización de la matriz con el mapa de colores personalizado\n",
        "def ver_matriz(x):\n",
        "    plt.figure()\n",
        "    plt.imshow(x, cmap=cmap, norm=norm)\n",
        "    plt.colorbar(ticks=np.arange(len(bounds)-1))  # Mostrar leyenda con colores personalizados\n",
        "    plt.grid(False)\n",
        "    plt.show()\n",
        "\n",
        "# Visualizar MAZE y MARK\n",
        "print(\"Visualización de MAZE:\")\n",
        "ver_matriz(MAZE)\n",
        "\n",
        "print(\"Visualización de MARK (Posiciones visitadas):\")\n",
        "ver_matriz(MARK)\n"
      ],
      "metadata": {
        "colab": {
          "base_uri": "https://localhost:8080/",
          "height": 899
        },
        "id": "uIv4Yf2vBaQO",
        "outputId": "209c0557-3400-43c2-ca83-c2c6cb4abf28"
      },
      "execution_count": null,
      "outputs": [
        {
          "output_type": "stream",
          "name": "stdout",
          "text": [
            "Solución encontrada!\n",
            "Visualización de MAZE:\n"
          ]
        },
        {
          "output_type": "display_data",
          "data": {
            "text/plain": [
              "<Figure size 640x480 with 2 Axes>"
            ],
            "image/png": "[encoded data removed]"
          },
          "metadata": {}
        },
        {
          "output_type": "stream",
          "name": "stdout",
          "text": [
            "Visualización de MARK (Posiciones visitadas):\n"
          ]
        },
        {
          "output_type": "display_data",
          "data": {
            "text/plain": [
              "<Figure size 640x480 with 2 Axes>"
            ],
            "image/png": "[encoded data removed]"
          },
          "metadata": {}
        }
      ]
    },
    {
      "cell_type": "markdown",
      "source": [
        "Generamos el laberinto con algoritmo de backtraking y resolvemos el laberinto utilizando búsqueda DFS."
      ],
      "metadata": {
        "id": "tpXWR_cJjTu0"
      }
    },
    {
      "cell_type": "code",
      "source": [
        "import matplotlib.pyplot as plt\n",
        "import matplotlib.colors as mcolors\n",
        "import numpy as np\n",
        "import random\n",
        "from collections import deque\n",
        "import sys\n",
        "\n",
        "# Aumentar el límite de recursión\n",
        "sys.setrecursionlimit(10000) # Aumentar el límite a un valor mayor\n",
        "\n",
        "# Dimensiones del laberinto\n",
        "N = 51\n",
        "\n",
        "# Inicializar el laberinto con todas paredes\n",
        "MAZE = [[1 for _ in range(N)] for _ in range(N)]\n",
        "\n",
        "# Movimientos posibles (abajo, derecha, arriba, izquierda)\n",
        "movimientos = [(2, 0), (0, 2), (-2, 0), (0, -2)]\n",
        "\n",
        "# Función que genera el laberinto con el algoritmo de backtracking\n",
        "def generar_laberinto_backtracking(x, y):\n",
        "    # Marca la celda actual como camino\n",
        "    MAZE[x][y] = 0\n",
        "\n",
        "    # Orden aleatorio para los movimientos\n",
        "    random.shuffle(movimientos)\n",
        "\n",
        "    # Explora cada dirección\n",
        "    for dx, dy in movimientos:\n",
        "        nx, ny = x + dx, y + dy\n",
        "        # Verifica si la nueva posición está dentro del laberinto y no ha sido visitada\n",
        "        if 1 <= nx < N - 1 and 1 <= ny < N - 1 and MAZE[nx][ny] == 1:\n",
        "            # Marca el camino intermedio entre las celdas como parte del camino\n",
        "            MAZE[x + dx // 2][y + dy // 2] = 0\n",
        "            # Llama recursivamente para continuar generando el laberinto desde la nueva celda\n",
        "            generar_laberinto_backtracking(nx, ny)\n",
        "\n",
        "# Generar el laberinto desde la celda inicial\n",
        "generar_laberinto_backtracking(1, 1)\n",
        "\n",
        "# Convierte MAZE a un array de NumPy para permitir indexación multidimensional.\n",
        "MAZE = np.array(MAZE)\n",
        "\n",
        "# Crear la matriz MARK como copia de MAZE para registrar las posiciones visitadas\n",
        "MARK = MAZE.copy()\n",
        "\n",
        "# Función para verificar si una posición es válida y no ha sido visitada\n",
        "def es_valida(x, y):\n",
        "    return 0 <= x < N and 0 <= y < N and MAZE[x, y] != 1 and MARK[x, y] < 4\n",
        "\n",
        "# Función de búsqueda en profundidad iterativa con pila\n",
        "def dfs_iterativo(inicio, fin):\n",
        "    pila = [inicio]  # Inicializamos la pila con el punto de inicio\n",
        "    MARK[inicio[0], inicio[1]] = 4  # Marcar la posición de inicio como visitada\n",
        "\n",
        "    # Movimientos posibles (arriba, derecha, abajo, izquierda, )\n",
        "    movimientos = [(0, -1), (1, 0), (0, 1), (-1, 0)]\n",
        "\n",
        "    while pila:\n",
        "        x, y = pila.pop()  # Sacar el último elemento de la pila (LIFO)\n",
        "\n",
        "        # Si llegamos a la posición de fin, terminamos\n",
        "        if (x, y) == fin:\n",
        "            print(\"Solución encontrada!\")\n",
        "            return True\n",
        "\n",
        "        # Explorar las posiciones adyacentes\n",
        "        for dx, dy in movimientos:\n",
        "            nx, ny = x + dx, y + dy\n",
        "            if es_valida(nx, ny):  # Verificar si es válida y no ha sido visitada\n",
        "                MARK[nx, ny] = 4  # Marcar como visitada con valor 4\n",
        "                pila.append((nx, ny))  # Añadir la posición a la pila\n",
        "\n",
        "    print(\"No se encontró solución.\")\n",
        "    return False\n",
        "\n",
        "# Coordenadas de inicio y fin\n",
        "inicio = (1, 1)\n",
        "fin = (49, 49)\n",
        "\n",
        "# Ejecutar el algoritmo BFS iterativo\n",
        "dfs_iterativo(inicio, fin)\n",
        "\n",
        "# Crear el mapa de colores personalizado para cada valor\n",
        "colors = {\n",
        "    0: \"white\",    # Pasillo\n",
        "    1: \"grey\",     # Borde\n",
        "    2: \"orange\",   # Entrada\n",
        "    3: \"green\",    # Salida\n",
        "    4: \"yellow\"    # Posición visitada\n",
        "}\n",
        "\n",
        "# Crear una lista de colores en orden de los valores únicos de la matriz\n",
        "cmap_values = [colors[val] for val in sorted(colors.keys())]\n",
        "\n",
        "# Crear un mapa de colores discreto personalizado\n",
        "cmap = mcolors.ListedColormap(cmap_values)\n",
        "\n",
        "# Mapa de valores (bounds) para asociar cada color con un rango de valores\n",
        "bounds = [0, 1, 2, 3, 4, 5]  # Ajustar para que coincida con el número de colores\n",
        "norm = mcolors.BoundaryNorm(bounds, cmap.N)\n",
        "\n",
        "# Función de visualización de la matriz con el mapa de colores personalizado\n",
        "def ver_matriz(x):\n",
        "    plt.figure()\n",
        "    plt.imshow(x, cmap=cmap, norm=norm)\n",
        "    plt.colorbar(ticks=np.arange(len(bounds)-1))  # Mostrar leyenda con colores personalizados\n",
        "    plt.grid(False)\n",
        "    plt.show()\n",
        "\n",
        "# Visualizar MAZE y MARK\n",
        "print(\"Visualización de MAZE:\")\n",
        "ver_matriz(MAZE)\n",
        "\n",
        "print(\"Visualización de MARK (Posiciones visitadas):\")\n",
        "ver_matriz(MARK)"
      ],
      "metadata": {
        "colab": {
          "base_uri": "https://localhost:8080/",
          "height": 899
        },
        "id": "WTCj6A4fjcWh",
        "outputId": "7fd45fe4-c62f-4231-d4b3-5e6d84a3ad2f"
      },
      "execution_count": null,
      "outputs": [
        {
          "output_type": "stream",
          "name": "stdout",
          "text": [
            "Solución encontrada!\n",
            "Visualización de MAZE:\n"
          ]
        },
        {
          "output_type": "display_data",
          "data": {
            "text/plain": [
              "<Figure size 640x480 with 2 Axes>"
            ],
            "image/png": "[encoded data removed]"
          },
          "metadata": {}
        },
        {
          "output_type": "stream",
          "name": "stdout",
          "text": [
            "Visualización de MARK (Posiciones visitadas):\n"
          ]
        },
        {
          "output_type": "display_data",
          "data": {
            "text/plain": [
              "<Figure size 640x480 with 2 Axes>"
            ],
            "image/png": "[encoded data removed]"
          },
          "metadata": {}
        }
      ]
    },
    {
      "cell_type": "markdown",
      "source": [
        "Generamos el laberinto con algoritmo de backtraking y resolvemos el laberinto utilizando búsqueda BFS."
      ],
      "metadata": {
        "id": "oJZk2R4de8my"
      }
    },
    {
      "cell_type": "code",
      "source": [
        "import matplotlib.pyplot as plt\n",
        "import matplotlib.colors as mcolors\n",
        "import numpy as np\n",
        "import random\n",
        "from collections import deque\n",
        "import sys\n",
        "\n",
        "# Aumentar el límite de recursión\n",
        "sys.setrecursionlimit(10000) # Aumentar el límite a un valor mayor\n",
        "\n",
        "# Dimensiones del laberinto\n",
        "N = 51\n",
        "\n",
        "# Inicializar el laberinto con todas paredes\n",
        "MAZE = [[1 for _ in range(N)] for _ in range(N)]\n",
        "\n",
        "# Movimientos posibles (abajo, derecha, arriba, izquierda)\n",
        "movimientos = [(2, 0), (0, 2), (-2, 0), (0, -2)]\n",
        "\n",
        "# Función que genera el laberinto con el algoritmo de backtracking\n",
        "def generar_laberinto_backtracking(x, y):\n",
        "    # Marca la celda actual como camino\n",
        "    MAZE[x][y] = 0\n",
        "\n",
        "    # Orden aleatorio para los movimientos\n",
        "    random.shuffle(movimientos)\n",
        "\n",
        "    # Explora cada dirección\n",
        "    for dx, dy in movimientos:\n",
        "        nx, ny = x + dx, y + dy\n",
        "        # Verifica si la nueva posición está dentro del laberinto y no ha sido visitada\n",
        "        if 1 <= nx < N - 1 and 1 <= ny < N - 1 and MAZE[nx][ny] == 1:\n",
        "            # Marca el camino intermedio entre las celdas como parte del camino\n",
        "            MAZE[x + dx // 2][y + dy // 2] = 0\n",
        "            # Llama recursivamente para continuar generando el laberinto desde la nueva celda\n",
        "            generar_laberinto_backtracking(nx, ny)\n",
        "\n",
        "# Generar el laberinto desde la celda inicial\n",
        "generar_laberinto_backtracking(1, 1)\n",
        "\n",
        "# Convierte MAZE a un array de NumPy para permitir indexación multidimensional.\n",
        "MAZE = np.array(MAZE)\n",
        "\n",
        "# Crear la matriz MARK como copia de MAZE para registrar las posiciones visitadas\n",
        "MARK = MAZE.copy()\n",
        "\n",
        "# Función para verificar si una posición es válida y no ha sido visitada\n",
        "def es_valida(x, y):\n",
        "    return 0 <= x < N and 0 <= y < N and MAZE[x, y] != 1 and MARK[x, y] < 4\n",
        "\n",
        "# Función de búsqueda en anchura iterativa con cola\n",
        "from collections import deque\n",
        "\n",
        "def bfs_iterativo(inicio, fin):\n",
        "    cola = deque([inicio])  # Inicializamos la cola con el punto de inicio\n",
        "    MARK[inicio[0], inicio[1]] = 4  # Marcar la posición de inicio como visitada\n",
        "\n",
        "    # Movimientos posibles (arriba, derecha, abajo, izquierda)\n",
        "    movimientos = [(0, -1), (1, 0), (0, 1), (-1, 0)]\n",
        "\n",
        "    while cola:\n",
        "        x, y = cola.popleft()  # Sacar el primer elemento de la cola (FIFO)\n",
        "\n",
        "        # Si llegamos a la posición de fin, terminamos\n",
        "        if (x, y) == fin:\n",
        "            print(\"Solución encontrada!\")\n",
        "            return True\n",
        "\n",
        "        # Explorar las posiciones adyacentes\n",
        "        for dx, dy in movimientos:\n",
        "            nx, ny = x + dx, y + dy\n",
        "            if es_valida(nx, ny):  # Verificar si es válida y no ha sido visitada\n",
        "                MARK[nx, ny] = 4  # Marcar como visitada con valor 4\n",
        "                cola.append((nx, ny))  # Añadir la posición a la cola\n",
        "\n",
        "    print(\"No se encontró solución.\")\n",
        "    return False\n",
        "\n",
        "# Coordenadas de inicio y fin\n",
        "inicio = (1, 1)\n",
        "fin = (49, 49)\n",
        "\n",
        "# Ejecutar el algoritmo BFS iterativo\n",
        "bfs_iterativo(inicio, fin)\n",
        "\n",
        "# Crear el mapa de colores personalizado para cada valor\n",
        "colors = {\n",
        "    0: \"white\",    # Pasillo\n",
        "    1: \"grey\",     # Borde\n",
        "    2: \"orange\",   # Entrada\n",
        "    3: \"green\",    # Salida\n",
        "    4: \"yellow\"    # Posición visitada\n",
        "}\n",
        "\n",
        "# Crear una lista de colores en orden de los valores únicos de la matriz\n",
        "cmap_values = [colors[val] for val in sorted(colors.keys())]\n",
        "\n",
        "# Crear un mapa de colores discreto personalizado\n",
        "cmap = mcolors.ListedColormap(cmap_values)\n",
        "\n",
        "# Mapa de valores (bounds) para asociar cada color con un rango de valores\n",
        "bounds = [0, 1, 2, 3, 4, 5]  # Ajustar para que coincida con el número de colores\n",
        "norm = mcolors.BoundaryNorm(bounds, cmap.N)\n",
        "\n",
        "# Función de visualización de la matriz con el mapa de colores personalizado\n",
        "def ver_matriz(x):\n",
        "    plt.figure()\n",
        "    plt.imshow(x, cmap=cmap, norm=norm)\n",
        "    plt.colorbar(ticks=np.arange(len(bounds)-1))  # Mostrar leyenda con colores personalizados\n",
        "    plt.grid(False)\n",
        "    plt.show()\n",
        "\n",
        "# Visualizar MAZE y MARK\n",
        "print(\"Visualización de MAZE:\")\n",
        "ver_matriz(MAZE)\n",
        "\n",
        "print(\"Visualización de MARK (Posiciones visitadas):\")\n",
        "ver_matriz(MARK)\n"
      ],
      "metadata": {
        "colab": {
          "base_uri": "https://localhost:8080/",
          "height": 899
        },
        "id": "rasYZn1Le_89",
        "outputId": "f8c93896-fcd9-419e-c2ce-9c90d1d96cab"
      },
      "execution_count": null,
      "outputs": [
        {
          "output_type": "stream",
          "name": "stdout",
          "text": [
            "Solución encontrada!\n",
            "Visualización de MAZE:\n"
          ]
        },
        {
          "output_type": "display_data",
          "data": {
            "text/plain": [
              "<Figure size 640x480 with 2 Axes>"
            ],
            "image/png": "[encoded data removed]"
          },
          "metadata": {}
        },
        {
          "output_type": "stream",
          "name": "stdout",
          "text": [
            "Visualización de MARK (Posiciones visitadas):\n"
          ]
        },
        {
          "output_type": "display_data",
          "data": {
            "text/plain": [
              "<Figure size 640x480 with 2 Axes>"
            ],
            "image/png": "[encoded data removed]"
          },
          "metadata": {}
        }
      ]
    }
  ]
}