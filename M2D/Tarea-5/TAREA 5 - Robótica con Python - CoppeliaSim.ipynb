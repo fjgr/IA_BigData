{
 "cells": [
  {
   "cell_type": "markdown",
   "metadata": {},
   "source": [
    "### Instalación de NumPy en Jupyter Notebook\n",
    "NumPy es una biblioteca fundamental para cálculos numéricos en Python.  \n",
    "El siguiente comando instalará la biblioteca en el entorno de Jupyter Notebook."
   ]
  },
  {
   "cell_type": "code",
   "execution_count": 49,
   "metadata": {},
   "outputs": [
    {
     "name": "stdout",
     "output_type": "stream",
     "text": [
      "Defaulting to user installation because normal site-packages is not writeable\n",
      "Requirement already satisfied: numpy in c:\\users\\fran\\appdata\\roaming\\python\\python311\\site-packages (2.2.3)\n"
     ]
    }
   ],
   "source": [
    "!pip install numpy"
   ]
  },
  {
   "cell_type": "markdown",
   "metadata": {},
   "source": [
    "### Importación de módulos en Python\n",
    "\n",
    "Este código importa las bibliotecas necesarias para la comunicación con **CoppeliaSim** y para la manipulación de datos numéricos.\n"
   ]
  },
  {
   "cell_type": "code",
   "execution_count": 50,
   "metadata": {},
   "outputs": [],
   "source": [
    "# Importación de la API Remota de CoppeliaSim\n",
    "import sim  # Importa la biblioteca 'sim' que permite la conexión con CoppeliaSim\n",
    "\n",
    "# Importación de NumPy\n",
    "import numpy as np  # Importa la biblioteca NumPy y la asigna al alias 'np' para cálculos numéricos eficientes"
   ]
  },
  {
   "cell_type": "markdown",
   "metadata": {},
   "source": [
    "### Función para conectar con CoppeliaSim\n",
    "\n",
    "Esta función establece una conexión con **CoppeliaSim** a través de la API remota en un puerto específico.\n"
   ]
  },
  {
   "cell_type": "code",
   "execution_count": 51,
   "metadata": {},
   "outputs": [],
   "source": [
    "def connect(port):\n",
    "    # Finaliza cualquier conexión previa con CoppeliaSim\n",
    "    sim.simxFinish(-1)  # Cierra conexiones abiertas para evitar conflictos\n",
    "\n",
    "    # Intenta establecer una conexión con CoppeliaSim en el puerto especificado\n",
    "    clientID = sim.simxStart('127.0.0.1', port, True, True, 2000, 5)\n",
    "\n",
    "    # Verifica si la conexión fue exitosa o fallida\n",
    "    if clientID == 0:  \n",
    "        print(\"conectado a\", port)  # Mensaje de éxito si la conexión es establecida\n",
    "    else:  \n",
    "        print(\"no se pudo conectar\")  # Mensaje de error si la conexión falla\n",
    "\n",
    "    # Devuelve el identificador de cliente (clientID), necesario para comunicarse con CoppeliaSim\n",
    "    return clientID  "
   ]
  },
  {
   "cell_type": "markdown",
   "metadata": {},
   "source": [
    "### Conexión a CoppeliaSim\n",
    "\n",
    "* **Finaliza conexiones previas** con CoppeliaSim usando `sim.simxFinish(-1)`.\n",
    "* **Establece una nueva conexión** en el puerto `19999` con `connect()`."
   ]
  },
  {
   "cell_type": "code",
   "execution_count": 52,
   "metadata": {},
   "outputs": [
    {
     "name": "stdout",
     "output_type": "stream",
     "text": [
      "conectado a 19999\n"
     ]
    }
   ],
   "source": [
    "# Cierra cualquier conexión previa con CoppeliaSim\n",
    "sim.simxFinish(-1)  # Finaliza todas las conexiones abiertas para evitar conflictos\n",
    "\n",
    "# Intenta conectar con CoppeliaSim en el puerto 19999\n",
    "clientID = connect(19999)  # Llama a la función 'connect' y almacena el identificador de cliente"
   ]
  },
  {
   "cell_type": "markdown",
   "metadata": {},
   "source": [
    "### Obtención del manejador de un objeto en CoppeliaSim\n",
    "\n",
    "* **Solicita el manejador (handle) del objeto `'dummy'`** en la escena de CoppeliaSim.\n",
    "* **Almacena el manejador en la variable `dummy`**.\n",
    "* **Imprime el valor del manejador**, que es un identificador único del objeto dentro de CoppeliaSim.\n"
   ]
  },
  {
   "cell_type": "code",
   "execution_count": 53,
   "metadata": {},
   "outputs": [
    {
     "name": "stdout",
     "output_type": "stream",
     "text": [
      "20\n"
     ]
    }
   ],
   "source": [
    "# Obtiene el manejador del objeto \"dummy\" en la escena de CoppeliaSim\n",
    "returnCode, handle = sim.simxGetObjectHandle(clientID, 'dummy', sim.simx_opmode_blocking)\n",
    "\n",
    "# Guarda el identificador del objeto en la variable 'dummy'\n",
    "dummy = handle  # Almacena el identificador único del objeto \"dummy\"\n",
    "\n",
    "# Imprime el identificador del objeto \"dummy\"\n",
    "print(dummy)  # Muestra el handle del objeto en la consola"
   ]
  },
  {
   "cell_type": "markdown",
   "metadata": {},
   "source": [
    "### Obtención de la posición de un objeto en CoppeliaSim\n",
    "\n",
    "* **Solicita la posición del objeto `'dummy'`** en la escena de CoppeliaSim.\n",
    "* **Almacena la posición en la variable `pos`**.\n",
    "* **Imprime la posición en la consola**, representada como una lista de coordenadas `[x, y, z]`."
   ]
  },
  {
   "cell_type": "code",
   "execution_count": 54,
   "metadata": {},
   "outputs": [
    {
     "name": "stdout",
     "output_type": "stream",
     "text": [
      "[0.5, 2.3165762641497167e-09, 8.711068488764795e-08]\n"
     ]
    }
   ],
   "source": [
    "# Obtiene la posición del objeto \"dummy\" en el sistema de coordenadas global\n",
    "returnCode, pos = sim.simxGetObjectPosition(clientID, dummy, -1, sim.simx_opmode_blocking)\n",
    "\n",
    "# Imprime la posición obtenida del objeto \"dummy\"\n",
    "print(pos)  # Muestra la posición en formato [x, y, z]"
   ]
  },
  {
   "cell_type": "markdown",
   "metadata": {},
   "source": [
    "### Obtención de los Manejadores de Articulaciones en CoppeliaSim\n",
    "\n",
    "* **Solicita el manejador (handle) del objeto `'joint1'`** en la escena de CoppeliaSim.\n",
    "* **Solicita el manejador del objeto `'joint2'`**.\n",
    "* **Imprime los manejadores obtenidos** de las articulaciones en la consola.\n"
   ]
  },
  {
   "cell_type": "code",
   "execution_count": 55,
   "metadata": {},
   "outputs": [
    {
     "name": "stdout",
     "output_type": "stream",
     "text": [
      "16 18\n"
     ]
    }
   ],
   "source": [
    "# Obtiene el manejador del objeto \"joint1\"\n",
    "ret, joint1 = sim.simxGetObjectHandle(clientID, 'joint1', sim.simx_opmode_blocking)\n",
    "\n",
    "# Obtiene el manejador del objeto \"joint2\"\n",
    "ret, joint2 = sim.simxGetObjectHandle(clientID, 'joint2', sim.simx_opmode_blocking)\n",
    "\n",
    "# Imprime los manejadores obtenidos\n",
    "print(joint1, joint2)  # Muestra los identificadores únicos de \"joint1\" y \"joint2\""
   ]
  },
  {
   "cell_type": "markdown",
   "metadata": {},
   "source": [
    "### Obtención de la posición de la primera articulación en CoppeliaSim\n",
    "* **Solicita la posición de la articulación `'joint1'`** en la escena de CoppeliaSim.\n",
    "* **Almacena la posición en la variable `pos1`**.\n",
    "* **Imprime el valor de la posición de la articulación** en la consola.\n"
   ]
  },
  {
   "cell_type": "code",
   "execution_count": 56,
   "metadata": {},
   "outputs": [
    {
     "name": "stdout",
     "output_type": "stream",
     "text": [
      "-5.130528446528615e-09\n"
     ]
    }
   ],
   "source": [
    "# Obtiene la posición de la articulación \"joint1\"\n",
    "returnCode, pos1 = sim.simxGetJointPosition(clientID, joint1, sim.simx_opmode_blocking)\n",
    "\n",
    "# Imprime la posición de la articulación \"joint1\"\n",
    "print(pos1)  # Muestra el valor angular de la articulación"
   ]
  },
  {
   "cell_type": "markdown",
   "metadata": {},
   "source": [
    "### Obtención de la posición de la segunda articulación en CoppeliaSim\n",
    "* **Solicita la posición de la articulación `'joint2'`** en la escena de CoppeliaSim.\n",
    "* **Almacena la posición en la variable `pos2`**.\n",
    "* **Imprime el valor de la posición de la articulación** en la consola.\n"
   ]
  },
  {
   "cell_type": "code",
   "execution_count": 57,
   "metadata": {},
   "outputs": [
    {
     "name": "stdout",
     "output_type": "stream",
     "text": [
      "-1.2246148095584886e-08\n"
     ]
    }
   ],
   "source": [
    "# Obtiene la posición de la articulación \"joint2\"\n",
    "returnCode, pos2 = sim.simxGetJointPosition(clientID, joint2, sim.simx_opmode_blocking)\n",
    "\n",
    "# Imprime la posición de la articulación \"joint2\"\n",
    "print(pos2)  # Muestra el valor angular de la articulación en radianes"
   ]
  },
  {
   "cell_type": "markdown",
   "metadata": {},
   "source": [
    "### Configuración de la posición objetivo de la primera articulación en CoppeliaSim\n",
    "* **Calcula el ángulo objetivo `q1`** en radianes.\n",
    "* **Envía el comando para mover la articulación `'joint1'`** a la posición `q1`.\n",
    "* **Imprime el código de retorno** para verificar si la operación fue exitosa.\n"
   ]
  },
  {
   "cell_type": "code",
   "execution_count": 58,
   "metadata": {},
   "outputs": [
    {
     "name": "stdout",
     "output_type": "stream",
     "text": [
      "1\n"
     ]
    }
   ],
   "source": [
    "# Calcula la posición objetivo en radianes\n",
    "q1 = -30 * np.pi / 180  # Convierte -30 grados a radianes\n",
    "\n",
    "# Establece la posición objetivo de la articulación \"joint1\"\n",
    "returnCode = sim.simxSetJointTargetPosition(clientID, joint1, q1, sim.simx_opmode_oneshot)\n",
    "\n",
    "# Imprime el código de retorno para verificar si la operación fue exitosa\n",
    "print(returnCode)  # 0 indica éxito, otros valores indican error"
   ]
  },
  {
   "cell_type": "markdown",
   "metadata": {},
   "source": [
    "### Configuración de la posición objetivo de la segunda articulación en CoppeliaSim\n",
    "* **Calcula el ángulo objetivo `q2`** en radianes.\n",
    "* **Envía el comando para mover la articulación `'joint2'`** a la posición `q2`.\n",
    "* **Imprime el código de retorno** para verificar si la operación fue exitosa.\n"
   ]
  },
  {
   "cell_type": "code",
   "execution_count": 59,
   "metadata": {},
   "outputs": [
    {
     "name": "stdout",
     "output_type": "stream",
     "text": [
      "1\n"
     ]
    }
   ],
   "source": [
    "# Calcula la posición objetivo en radianes\n",
    "q2 = 30 * np.pi / 180  # Convierte 30 grados a radianes\n",
    "\n",
    "# Establece la posición objetivo de la articulación \"joint2\"\n",
    "returnCode = sim.simxSetJointTargetPosition(clientID, joint2, q2, sim.simx_opmode_oneshot)\n",
    "\n",
    "# Imprime el código de retorno para verificar si la operación fue exitosa\n",
    "print(returnCode)  # 0 indica éxito, otros valores indican error"
   ]
  },
  {
   "cell_type": "markdown",
   "metadata": {},
   "source": [
    "### Conexión a CoppeliaSim y configuración de articulaciones\n",
    "* **Conecta con CoppeliaSim** a través del puerto `19999`.\n",
    "* **Obtiene los manejadores** del objeto `'Dummy'` y las articulaciones `'joint1'` y `'joint2'`.\n",
    "* **Establece posiciones objetivo** para las articulaciones en radianes.\n"
   ]
  },
  {
   "cell_type": "code",
   "execution_count": 65,
   "metadata": {},
   "outputs": [
    {
     "name": "stdout",
     "output_type": "stream",
     "text": [
      "conectado a 19999\n"
     ]
    }
   ],
   "source": [
    "# Conectar con CoppeliaSim en el puerto 19999\n",
    "clientID = connect(19999)\n",
    "\n",
    "# Obtener el manejador del objeto \"Dummy\"\n",
    "returnCode, handle = sim.simxGetObjectHandle(clientID, 'Dummy', sim.simx_opmode_blocking)\n",
    "dummy = handle  # Asignamos el identificador a la variable \"dummy\"\n",
    "\n",
    "# Obtener el manejador de la articulación \"joint1\"\n",
    "ret, joint1 = sim.simxGetObjectHandle(clientID, 'joint1', sim.simx_opmode_blocking)\n",
    "\n",
    "# Obtener el manejador de la articulación \"joint2\"\n",
    "ret, joint2 = sim.simxGetObjectHandle(clientID, 'joint2', sim.simx_opmode_blocking)\n",
    "\n",
    "# Definir posición objetivo de la articulación \"joint1\"\n",
    "q1 = -90 * np.pi / 180  # Convertir 0 grados a radianes\n",
    "returnCode = sim.simxSetJointTargetPosition(clientID, joint1, q1, sim.simx_opmode_oneshot)\n",
    "\n",
    "# Definir posición objetivo de la articulación \"joint2\"\n",
    "q2 = -90 * np.pi / 180  # Convertir -45 grados a radianes\n",
    "returnCode = sim.simxSetJointTargetPosition(clientID, joint2, q2, sim.simx_opmode_oneshot)\n"
   ]
  },
  {
   "cell_type": "markdown",
   "metadata": {},
   "source": [
    "### Obtención de la posición de un objeto en CoppeliaSim\n",
    "* **Solicita la posición del objeto `'dummy'`** en la escena de CoppeliaSim.\n",
    "* **Almacena la posición en la variable `pos`**.\n",
    "* **Imprime la posición en la consola**, representada como una lista de coordenadas `[x, y, z]`."
   ]
  },
  {
   "cell_type": "code",
   "execution_count": 66,
   "metadata": {},
   "outputs": [
    {
     "name": "stdout",
     "output_type": "stream",
     "text": [
      "[0.87005215883255, -0.9192729592323303, 1.7669304609298706]\n"
     ]
    }
   ],
   "source": [
    "# Obtiene la posición del objeto \"dummy\" en coordenadas globales\n",
    "returnCode, pos = sim.simxGetObjectPosition(clientID, dummy, -1, sim.simx_opmode_blocking)\n",
    "\n",
    "# Imprime la posición obtenida del objeto \"dummy\"\n",
    "print(pos)  # Muestra la posición en formato [x, y, z]"
   ]
  },
  {
   "cell_type": "code",
   "execution_count": null,
   "metadata": {},
   "outputs": [],
   "source": []
  }
 ],
 "metadata": {
  "kernelspec": {
   "display_name": "Python 3 (ipykernel)",
   "language": "python",
   "name": "python3"
  },
  "language_info": {
   "codemirror_mode": {
    "name": "ipython",
    "version": 3
   },
   "file_extension": ".py",
   "mimetype": "text/x-python",
   "name": "python",
   "nbconvert_exporter": "python",
   "pygments_lexer": "ipython3",
   "version": "3.11.4"
  }
 },
 "nbformat": 4,
 "nbformat_minor": 4
}
