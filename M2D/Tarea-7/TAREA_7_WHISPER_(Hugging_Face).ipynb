{
  "nbformat": 4,
  "nbformat_minor": 0,
  "metadata": {
    "colab": {
      "provenance": [],
      "gpuType": "T4",
      "authorship_tag": "ABX9TyMagb6wgFl92jqezqokWXWu",
      "include_colab_link": true
    },
    "kernelspec": {
      "name": "python3",
      "display_name": "Python 3"
    },
    "language_info": {
      "name": "python"
    },
    "accelerator": "GPU"
  },
  "cells": [
    {
      "cell_type": "markdown",
      "metadata": {
        "id": "view-in-github",
        "colab_type": "text"
      },
      "source": [
        "<a href=\"https://colab.research.google.com/github/fjgr/IA_BigData/blob/main/M2D/Tarea-7/TAREA_7_WHISPER_(Hugging_Face).ipynb\" target=\"_parent\"><img src=\"https://colab.research.google.com/assets/colab-badge.svg\" alt=\"Open In Colab\"/></a>"
      ]
    },
    {
      "cell_type": "markdown",
      "source": [
        "# Actividad con WHISPER (Hugging Face)"
      ],
      "metadata": {
        "id": "cdXjbtnFDbZC"
      }
    },
    {
      "cell_type": "markdown",
      "source": [
        "## 📌 1. Instalación de dependencias\n",
        "Esta celda instala todas las bibliotecas necesarias para el proyecto.\n",
        "\n",
        "Se incluyen:\n",
        " - **transformers**: para procesamiento de lenguaje natural\n",
        " - **torch**: para modelos de deep learning\n",
        " - **ffmpeg**: para conversión de audio\n",
        " - **openai-whisper**: modelo de transcripción\n",
        " - **pydub**: para análisis de audio\n",
        " - **tqdm**: para mostrar progreso"
      ],
      "metadata": {
        "id": "I5EbEa4VDUHx"
      }
    },
    {
      "cell_type": "code",
      "source": [
        "!pip install transformers torch ffmpeg openai-whisper pydub tqdm"
      ],
      "metadata": {
        "colab": {
          "base_uri": "https://localhost:8080/"
        },
        "id": "cXWhiW-kEf_B",
        "outputId": "2e57bea1-6529-4b69-e4b1-e87e2d62a71e"
      },
      "execution_count": 1,
      "outputs": [
        {
          "output_type": "stream",
          "name": "stdout",
          "text": [
            "Requirement already satisfied: transformers in /usr/local/lib/python3.11/dist-packages (4.48.3)\n",
            "Requirement already satisfied: torch in /usr/local/lib/python3.11/dist-packages (2.5.1+cu124)\n",
            "Collecting ffmpeg\n",
            "  Downloading ffmpeg-1.4.tar.gz (5.1 kB)\n",
            "  Preparing metadata (setup.py) ... \u001b[?25l\u001b[?25hdone\n",
            "Collecting openai-whisper\n",
            "  Downloading openai-whisper-20240930.tar.gz (800 kB)\n",
            "\u001b[2K     \u001b[90m━━━━━━━━━━━━━━━━━━━━━━━━━━━━━━━━━━━━━━━━\u001b[0m \u001b[32m800.5/800.5 kB\u001b[0m \u001b[31m11.5 MB/s\u001b[0m eta \u001b[36m0:00:00\u001b[0m\n",
            "\u001b[?25h  Installing build dependencies ... \u001b[?25l\u001b[?25hdone\n",
            "  Getting requirements to build wheel ... \u001b[?25l\u001b[?25hdone\n",
            "  Preparing metadata (pyproject.toml) ... \u001b[?25l\u001b[?25hdone\n",
            "Collecting pydub\n",
            "  Downloading pydub-0.25.1-py2.py3-none-any.whl.metadata (1.4 kB)\n",
            "Requirement already satisfied: tqdm in /usr/local/lib/python3.11/dist-packages (4.67.1)\n",
            "Requirement already satisfied: filelock in /usr/local/lib/python3.11/dist-packages (from transformers) (3.17.0)\n",
            "Requirement already satisfied: huggingface-hub<1.0,>=0.24.0 in /usr/local/lib/python3.11/dist-packages (from transformers) (0.28.1)\n",
            "Requirement already satisfied: numpy>=1.17 in /usr/local/lib/python3.11/dist-packages (from transformers) (1.26.4)\n",
            "Requirement already satisfied: packaging>=20.0 in /usr/local/lib/python3.11/dist-packages (from transformers) (24.2)\n",
            "Requirement already satisfied: pyyaml>=5.1 in /usr/local/lib/python3.11/dist-packages (from transformers) (6.0.2)\n",
            "Requirement already satisfied: regex!=2019.12.17 in /usr/local/lib/python3.11/dist-packages (from transformers) (2024.11.6)\n",
            "Requirement already satisfied: requests in /usr/local/lib/python3.11/dist-packages (from transformers) (2.32.3)\n",
            "Requirement already satisfied: tokenizers<0.22,>=0.21 in /usr/local/lib/python3.11/dist-packages (from transformers) (0.21.0)\n",
            "Requirement already satisfied: safetensors>=0.4.1 in /usr/local/lib/python3.11/dist-packages (from transformers) (0.5.3)\n",
            "Requirement already satisfied: typing-extensions>=4.8.0 in /usr/local/lib/python3.11/dist-packages (from torch) (4.12.2)\n",
            "Requirement already satisfied: networkx in /usr/local/lib/python3.11/dist-packages (from torch) (3.4.2)\n",
            "Requirement already satisfied: jinja2 in /usr/local/lib/python3.11/dist-packages (from torch) (3.1.5)\n",
            "Requirement already satisfied: fsspec in /usr/local/lib/python3.11/dist-packages (from torch) (2024.10.0)\n",
            "Collecting nvidia-cuda-nvrtc-cu12==12.4.127 (from torch)\n",
            "  Downloading nvidia_cuda_nvrtc_cu12-12.4.127-py3-none-manylinux2014_x86_64.whl.metadata (1.5 kB)\n",
            "Collecting nvidia-cuda-runtime-cu12==12.4.127 (from torch)\n",
            "  Downloading nvidia_cuda_runtime_cu12-12.4.127-py3-none-manylinux2014_x86_64.whl.metadata (1.5 kB)\n",
            "Collecting nvidia-cuda-cupti-cu12==12.4.127 (from torch)\n",
            "  Downloading nvidia_cuda_cupti_cu12-12.4.127-py3-none-manylinux2014_x86_64.whl.metadata (1.6 kB)\n",
            "Collecting nvidia-cudnn-cu12==9.1.0.70 (from torch)\n",
            "  Downloading nvidia_cudnn_cu12-9.1.0.70-py3-none-manylinux2014_x86_64.whl.metadata (1.6 kB)\n",
            "Collecting nvidia-cublas-cu12==12.4.5.8 (from torch)\n",
            "  Downloading nvidia_cublas_cu12-12.4.5.8-py3-none-manylinux2014_x86_64.whl.metadata (1.5 kB)\n",
            "Collecting nvidia-cufft-cu12==11.2.1.3 (from torch)\n",
            "  Downloading nvidia_cufft_cu12-11.2.1.3-py3-none-manylinux2014_x86_64.whl.metadata (1.5 kB)\n",
            "Collecting nvidia-curand-cu12==10.3.5.147 (from torch)\n",
            "  Downloading nvidia_curand_cu12-10.3.5.147-py3-none-manylinux2014_x86_64.whl.metadata (1.5 kB)\n",
            "Collecting nvidia-cusolver-cu12==11.6.1.9 (from torch)\n",
            "  Downloading nvidia_cusolver_cu12-11.6.1.9-py3-none-manylinux2014_x86_64.whl.metadata (1.6 kB)\n",
            "Collecting nvidia-cusparse-cu12==12.3.1.170 (from torch)\n",
            "  Downloading nvidia_cusparse_cu12-12.3.1.170-py3-none-manylinux2014_x86_64.whl.metadata (1.6 kB)\n",
            "Requirement already satisfied: nvidia-nccl-cu12==2.21.5 in /usr/local/lib/python3.11/dist-packages (from torch) (2.21.5)\n",
            "Requirement already satisfied: nvidia-nvtx-cu12==12.4.127 in /usr/local/lib/python3.11/dist-packages (from torch) (12.4.127)\n",
            "Collecting nvidia-nvjitlink-cu12==12.4.127 (from torch)\n",
            "  Downloading nvidia_nvjitlink_cu12-12.4.127-py3-none-manylinux2014_x86_64.whl.metadata (1.5 kB)\n",
            "Requirement already satisfied: triton==3.1.0 in /usr/local/lib/python3.11/dist-packages (from torch) (3.1.0)\n",
            "Requirement already satisfied: sympy==1.13.1 in /usr/local/lib/python3.11/dist-packages (from torch) (1.13.1)\n",
            "Requirement already satisfied: mpmath<1.4,>=1.1.0 in /usr/local/lib/python3.11/dist-packages (from sympy==1.13.1->torch) (1.3.0)\n",
            "Requirement already satisfied: numba in /usr/local/lib/python3.11/dist-packages (from openai-whisper) (0.61.0)\n",
            "Requirement already satisfied: more-itertools in /usr/local/lib/python3.11/dist-packages (from openai-whisper) (10.6.0)\n",
            "Collecting tiktoken (from openai-whisper)\n",
            "  Downloading tiktoken-0.9.0-cp311-cp311-manylinux_2_17_x86_64.manylinux2014_x86_64.whl.metadata (6.7 kB)\n",
            "Requirement already satisfied: MarkupSafe>=2.0 in /usr/local/lib/python3.11/dist-packages (from jinja2->torch) (3.0.2)\n",
            "Requirement already satisfied: llvmlite<0.45,>=0.44.0dev0 in /usr/local/lib/python3.11/dist-packages (from numba->openai-whisper) (0.44.0)\n",
            "Requirement already satisfied: charset-normalizer<4,>=2 in /usr/local/lib/python3.11/dist-packages (from requests->transformers) (3.4.1)\n",
            "Requirement already satisfied: idna<4,>=2.5 in /usr/local/lib/python3.11/dist-packages (from requests->transformers) (3.10)\n",
            "Requirement already satisfied: urllib3<3,>=1.21.1 in /usr/local/lib/python3.11/dist-packages (from requests->transformers) (2.3.0)\n",
            "Requirement already satisfied: certifi>=2017.4.17 in /usr/local/lib/python3.11/dist-packages (from requests->transformers) (2025.1.31)\n",
            "Downloading nvidia_cublas_cu12-12.4.5.8-py3-none-manylinux2014_x86_64.whl (363.4 MB)\n",
            "\u001b[2K   \u001b[90m━━━━━━━━━━━━━━━━━━━━━━━━━━━━━━━━━━━━━━━━\u001b[0m \u001b[32m363.4/363.4 MB\u001b[0m \u001b[31m3.0 MB/s\u001b[0m eta \u001b[36m0:00:00\u001b[0m\n",
            "\u001b[?25hDownloading nvidia_cuda_cupti_cu12-12.4.127-py3-none-manylinux2014_x86_64.whl (13.8 MB)\n",
            "\u001b[2K   \u001b[90m━━━━━━━━━━━━━━━━━━━━━━━━━━━━━━━━━━━━━━━━\u001b[0m \u001b[32m13.8/13.8 MB\u001b[0m \u001b[31m107.5 MB/s\u001b[0m eta \u001b[36m0:00:00\u001b[0m\n",
            "\u001b[?25hDownloading nvidia_cuda_nvrtc_cu12-12.4.127-py3-none-manylinux2014_x86_64.whl (24.6 MB)\n",
            "\u001b[2K   \u001b[90m━━━━━━━━━━━━━━━━━━━━━━━━━━━━━━━━━━━━━━━━\u001b[0m \u001b[32m24.6/24.6 MB\u001b[0m \u001b[31m87.4 MB/s\u001b[0m eta \u001b[36m0:00:00\u001b[0m\n",
            "\u001b[?25hDownloading nvidia_cuda_runtime_cu12-12.4.127-py3-none-manylinux2014_x86_64.whl (883 kB)\n",
            "\u001b[2K   \u001b[90m━━━━━━━━━━━━━━━━━━━━━━━━━━━━━━━━━━━━━━━━\u001b[0m \u001b[32m883.7/883.7 kB\u001b[0m \u001b[31m58.3 MB/s\u001b[0m eta \u001b[36m0:00:00\u001b[0m\n",
            "\u001b[?25hDownloading nvidia_cudnn_cu12-9.1.0.70-py3-none-manylinux2014_x86_64.whl (664.8 MB)\n",
            "\u001b[2K   \u001b[90m━━━━━━━━━━━━━━━━━━━━━━━━━━━━━━━━━━━━━━━━\u001b[0m \u001b[32m664.8/664.8 MB\u001b[0m \u001b[31m1.8 MB/s\u001b[0m eta \u001b[36m0:00:00\u001b[0m\n",
            "\u001b[?25hDownloading nvidia_cufft_cu12-11.2.1.3-py3-none-manylinux2014_x86_64.whl (211.5 MB)\n",
            "\u001b[2K   \u001b[90m━━━━━━━━━━━━━━━━━━━━━━━━━━━━━━━━━━━━━━━━\u001b[0m \u001b[32m211.5/211.5 MB\u001b[0m \u001b[31m5.2 MB/s\u001b[0m eta \u001b[36m0:00:00\u001b[0m\n",
            "\u001b[?25hDownloading nvidia_curand_cu12-10.3.5.147-py3-none-manylinux2014_x86_64.whl (56.3 MB)\n",
            "\u001b[2K   \u001b[90m━━━━━━━━━━━━━━━━━━━━━━━━━━━━━━━━━━━━━━━━\u001b[0m \u001b[32m56.3/56.3 MB\u001b[0m \u001b[31m10.3 MB/s\u001b[0m eta \u001b[36m0:00:00\u001b[0m\n",
            "\u001b[?25hDownloading nvidia_cusolver_cu12-11.6.1.9-py3-none-manylinux2014_x86_64.whl (127.9 MB)\n",
            "\u001b[2K   \u001b[90m━━━━━━━━━━━━━━━━━━━━━━━━━━━━━━━━━━━━━━━━\u001b[0m \u001b[32m127.9/127.9 MB\u001b[0m \u001b[31m7.5 MB/s\u001b[0m eta \u001b[36m0:00:00\u001b[0m\n",
            "\u001b[?25hDownloading nvidia_cusparse_cu12-12.3.1.170-py3-none-manylinux2014_x86_64.whl (207.5 MB)\n",
            "\u001b[2K   \u001b[90m━━━━━━━━━━━━━━━━━━━━━━━━━━━━━━━━━━━━━━━━\u001b[0m \u001b[32m207.5/207.5 MB\u001b[0m \u001b[31m6.9 MB/s\u001b[0m eta \u001b[36m0:00:00\u001b[0m\n",
            "\u001b[?25hDownloading nvidia_nvjitlink_cu12-12.4.127-py3-none-manylinux2014_x86_64.whl (21.1 MB)\n",
            "\u001b[2K   \u001b[90m━━━━━━━━━━━━━━━━━━━━━━━━━━━━━━━━━━━━━━━━\u001b[0m \u001b[32m21.1/21.1 MB\u001b[0m \u001b[31m60.3 MB/s\u001b[0m eta \u001b[36m0:00:00\u001b[0m\n",
            "\u001b[?25hDownloading pydub-0.25.1-py2.py3-none-any.whl (32 kB)\n",
            "Downloading tiktoken-0.9.0-cp311-cp311-manylinux_2_17_x86_64.manylinux2014_x86_64.whl (1.2 MB)\n",
            "\u001b[2K   \u001b[90m━━━━━━━━━━━━━━━━━━━━━━━━━━━━━━━━━━━━━━━━\u001b[0m \u001b[32m1.2/1.2 MB\u001b[0m \u001b[31m56.9 MB/s\u001b[0m eta \u001b[36m0:00:00\u001b[0m\n",
            "\u001b[?25hBuilding wheels for collected packages: ffmpeg, openai-whisper\n",
            "  Building wheel for ffmpeg (setup.py) ... \u001b[?25l\u001b[?25hdone\n",
            "  Created wheel for ffmpeg: filename=ffmpeg-1.4-py3-none-any.whl size=6082 sha256=18f77e82664bb5600618961cbd032e290f270a04832e9e8f1c276446b8c0402a\n",
            "  Stored in directory: /root/.cache/pip/wheels/56/30/c5/576bdd729f3bc062d62a551be7fefd6ed2f761901568171e4e\n",
            "  Building wheel for openai-whisper (pyproject.toml) ... \u001b[?25l\u001b[?25hdone\n",
            "  Created wheel for openai-whisper: filename=openai_whisper-20240930-py3-none-any.whl size=803373 sha256=a04756cfe1c1a8a7ad39502665b757e0507607db7c587dd7521f639d50cc5b76\n",
            "  Stored in directory: /root/.cache/pip/wheels/2f/f2/ce/6eb23db4091d026238ce76703bd66da60b969d70bcc81d5d3a\n",
            "Successfully built ffmpeg openai-whisper\n",
            "Installing collected packages: pydub, ffmpeg, nvidia-nvjitlink-cu12, nvidia-curand-cu12, nvidia-cufft-cu12, nvidia-cuda-runtime-cu12, nvidia-cuda-nvrtc-cu12, nvidia-cuda-cupti-cu12, nvidia-cublas-cu12, tiktoken, nvidia-cusparse-cu12, nvidia-cudnn-cu12, nvidia-cusolver-cu12, openai-whisper\n",
            "  Attempting uninstall: nvidia-nvjitlink-cu12\n",
            "    Found existing installation: nvidia-nvjitlink-cu12 12.5.82\n",
            "    Uninstalling nvidia-nvjitlink-cu12-12.5.82:\n",
            "      Successfully uninstalled nvidia-nvjitlink-cu12-12.5.82\n",
            "  Attempting uninstall: nvidia-curand-cu12\n",
            "    Found existing installation: nvidia-curand-cu12 10.3.6.82\n",
            "    Uninstalling nvidia-curand-cu12-10.3.6.82:\n",
            "      Successfully uninstalled nvidia-curand-cu12-10.3.6.82\n",
            "  Attempting uninstall: nvidia-cufft-cu12\n",
            "    Found existing installation: nvidia-cufft-cu12 11.2.3.61\n",
            "    Uninstalling nvidia-cufft-cu12-11.2.3.61:\n",
            "      Successfully uninstalled nvidia-cufft-cu12-11.2.3.61\n",
            "  Attempting uninstall: nvidia-cuda-runtime-cu12\n",
            "    Found existing installation: nvidia-cuda-runtime-cu12 12.5.82\n",
            "    Uninstalling nvidia-cuda-runtime-cu12-12.5.82:\n",
            "      Successfully uninstalled nvidia-cuda-runtime-cu12-12.5.82\n",
            "  Attempting uninstall: nvidia-cuda-nvrtc-cu12\n",
            "    Found existing installation: nvidia-cuda-nvrtc-cu12 12.5.82\n",
            "    Uninstalling nvidia-cuda-nvrtc-cu12-12.5.82:\n",
            "      Successfully uninstalled nvidia-cuda-nvrtc-cu12-12.5.82\n",
            "  Attempting uninstall: nvidia-cuda-cupti-cu12\n",
            "    Found existing installation: nvidia-cuda-cupti-cu12 12.5.82\n",
            "    Uninstalling nvidia-cuda-cupti-cu12-12.5.82:\n",
            "      Successfully uninstalled nvidia-cuda-cupti-cu12-12.5.82\n",
            "  Attempting uninstall: nvidia-cublas-cu12\n",
            "    Found existing installation: nvidia-cublas-cu12 12.5.3.2\n",
            "    Uninstalling nvidia-cublas-cu12-12.5.3.2:\n",
            "      Successfully uninstalled nvidia-cublas-cu12-12.5.3.2\n",
            "  Attempting uninstall: nvidia-cusparse-cu12\n",
            "    Found existing installation: nvidia-cusparse-cu12 12.5.1.3\n",
            "    Uninstalling nvidia-cusparse-cu12-12.5.1.3:\n",
            "      Successfully uninstalled nvidia-cusparse-cu12-12.5.1.3\n",
            "  Attempting uninstall: nvidia-cudnn-cu12\n",
            "    Found existing installation: nvidia-cudnn-cu12 9.3.0.75\n",
            "    Uninstalling nvidia-cudnn-cu12-9.3.0.75:\n",
            "      Successfully uninstalled nvidia-cudnn-cu12-9.3.0.75\n",
            "  Attempting uninstall: nvidia-cusolver-cu12\n",
            "    Found existing installation: nvidia-cusolver-cu12 11.6.3.83\n",
            "    Uninstalling nvidia-cusolver-cu12-11.6.3.83:\n",
            "      Successfully uninstalled nvidia-cusolver-cu12-11.6.3.83\n",
            "Successfully installed ffmpeg-1.4 nvidia-cublas-cu12-12.4.5.8 nvidia-cuda-cupti-cu12-12.4.127 nvidia-cuda-nvrtc-cu12-12.4.127 nvidia-cuda-runtime-cu12-12.4.127 nvidia-cudnn-cu12-9.1.0.70 nvidia-cufft-cu12-11.2.1.3 nvidia-curand-cu12-10.3.5.147 nvidia-cusolver-cu12-11.6.1.9 nvidia-cusparse-cu12-12.3.1.170 nvidia-nvjitlink-cu12-12.4.127 openai-whisper-20240930 pydub-0.25.1 tiktoken-0.9.0\n"
          ]
        }
      ]
    },
    {
      "cell_type": "markdown",
      "source": [
        "## 📌 2. Importación de librerías necesarias\n",
        "En esta celda, importamos las bibliotecas que usaremos para:\n",
        "- Cargar y analizar archivos de audio.\n",
        "- Convertir archivos si es necesario.\n",
        "- Ejecutar el modelo de transcripción Whisper.\n",
        "- Mostrar el progreso con barras de carga.\n"
      ],
      "metadata": {
        "id": "jZiy8_XlEkr2"
      }
    },
    {
      "cell_type": "code",
      "source": [
        "import whisper\n",
        "import torchaudio\n",
        "import subprocess\n",
        "from IPython.display import Audio\n",
        "from google.colab import files\n",
        "from pydub.utils import mediainfo\n",
        "from pathlib import Path\n",
        "from tqdm import tqdm"
      ],
      "metadata": {
        "id": "Ij-Z4IFGEwi0"
      },
      "execution_count": 2,
      "outputs": []
    },
    {
      "cell_type": "markdown",
      "source": [
        "## 📌 3. Función para verificar el formato del audio\n",
        "Antes de procesar el archivo, es importante verificar:\n",
        "\n",
        "✅ Si el audio tiene una frecuencia de **16 kHz**.  \n",
        "✅ Si el audio está en **mono (1 canal)**.  \n",
        "\n",
        "Si el audio no cumple con estos requisitos, lo convertiremos.\n"
      ],
      "metadata": {
        "id": "htDvv43UFDTZ"
      }
    },
    {
      "cell_type": "code",
      "source": [
        "def verificar_audio(audio_file):\n",
        "    \"\"\"\n",
        "    Analiza el archivo de audio y verifica si es compatible con Whisper.\n",
        "\n",
        "    Parámetros:\n",
        "    - audio_file (str): Ruta del archivo de audio a analizar.\n",
        "\n",
        "    Retorna:\n",
        "    - True si el archivo ya está en formato correcto (16kHz, mono).\n",
        "    - False si el archivo necesita conversión.\n",
        "    \"\"\"\n",
        "    try:\n",
        "        info = mediainfo(audio_file)\n",
        "        sample_rate = int(info['sample_rate'])  # Frecuencia de muestreo\n",
        "        channels = int(info['channels'])  # Número de canales\n",
        "        format = info['format_name']  # Formato del archivo\n",
        "\n",
        "        print(f\"🎵 Formato: {format}, 🎚️ Frecuencia: {sample_rate} Hz, 🔊 Canales: {channels}\")\n",
        "\n",
        "        if sample_rate != 16000 or channels != 1:\n",
        "            print(\"⚠️ El archivo necesita conversión a 16kHz mono.\")\n",
        "            return False\n",
        "        return True\n",
        "    except Exception as e:\n",
        "        print(f\"⚠️ Error al analizar el archivo: {e}\")\n",
        "        return False"
      ],
      "metadata": {
        "id": "ytG72qJuFSOJ"
      },
      "execution_count": 3,
      "outputs": []
    },
    {
      "cell_type": "markdown",
      "source": [
        "## 📌 4. Función para convertir audio con FFmpeg\n",
        "Si el audio **no está en formato compatible**, usamos **FFmpeg** para convertirlo.\n",
        "- Se cambia a **16 kHz** (frecuencia de muestreo).\n",
        "- Se convierte a **mono** (1 solo canal de audio).\n"
      ],
      "metadata": {
        "id": "9BhBUAssFs1K"
      }
    },
    {
      "cell_type": "code",
      "source": [
        "def convertir_audio(input_file, output_file):\n",
        "    \"\"\"\n",
        "    Convierte el archivo de audio a 16kHz mono usando FFmpeg.\n",
        "\n",
        "    Parámetros:\n",
        "    - input_file (str): Ruta del archivo de entrada.\n",
        "    - output_file (str): Ruta del archivo de salida convertido.\n",
        "\n",
        "    Retorna:\n",
        "    - True si la conversión fue exitosa.\n",
        "    - False si hubo un error.\n",
        "    \"\"\"\n",
        "    cmd = [\n",
        "        \"ffmpeg\", \"-y\", \"-i\", input_file,\n",
        "        \"-ac\", \"1\", \"-ar\", \"16000\", output_file\n",
        "    ]\n",
        "    result = subprocess.run(cmd, capture_output=True, text=True)\n",
        "    if result.returncode != 0:\n",
        "        print(\"⚠️ Error en la conversión de audio:\", result.stderr)\n",
        "        return False\n",
        "    return True"
      ],
      "metadata": {
        "id": "UiHxGPiTF5Fr"
      },
      "execution_count": 4,
      "outputs": []
    },
    {
      "cell_type": "markdown",
      "source": [
        "## 📌 5. Subir archivo de audio\n",
        "En esta celda, subimos un archivo de audio (.mp3, .wav, etc.).\n"
      ],
      "metadata": {
        "id": "0pvkSvq6GMX9"
      }
    },
    {
      "cell_type": "code",
      "source": [
        "uploaded = files.upload()  # Permite seleccionar un archivo desde el PC\n",
        "audio_file = list(uploaded.keys())[0]  # Guarda el nombre del archivo subido\n",
        "audio_path = Path(audio_file)  # Convierte la ruta a un objeto Path\n",
        "converted_audio = audio_path.with_name(\"audio_converted.wav\")  # Ruta del archivo convertido"
      ],
      "metadata": {
        "colab": {
          "base_uri": "https://localhost:8080/",
          "height": 74
        },
        "id": "KcKTuphBGZJq",
        "outputId": "35a65785-ae78-414f-e312-1d973599a9bd"
      },
      "execution_count": 5,
      "outputs": [
        {
          "output_type": "display_data",
          "data": {
            "text/plain": [
              "<IPython.core.display.HTML object>"
            ],
            "text/html": [
              "\n",
              "     <input type=\"file\" id=\"files-c20ef9ab-adf2-4ae2-8457-8a261095fc97\" name=\"files[]\" multiple disabled\n",
              "        style=\"border:none\" />\n",
              "     <output id=\"result-c20ef9ab-adf2-4ae2-8457-8a261095fc97\">\n",
              "      Upload widget is only available when the cell has been executed in the\n",
              "      current browser session. Please rerun this cell to enable.\n",
              "      </output>\n",
              "      <script>// Copyright 2017 Google LLC\n",
              "//\n",
              "// Licensed under the Apache License, Version 2.0 (the \"License\");\n",
              "// you may not use this file except in compliance with the License.\n",
              "// You may obtain a copy of the License at\n",
              "//\n",
              "//      http://www.apache.org/licenses/LICENSE-2.0\n",
              "//\n",
              "// Unless required by applicable law or agreed to in writing, software\n",
              "// distributed under the License is distributed on an \"AS IS\" BASIS,\n",
              "// WITHOUT WARRANTIES OR CONDITIONS OF ANY KIND, either express or implied.\n",
              "// See the License for the specific language governing permissions and\n",
              "// limitations under the License.\n",
              "\n",
              "/**\n",
              " * @fileoverview Helpers for google.colab Python module.\n",
              " */\n",
              "(function(scope) {\n",
              "function span(text, styleAttributes = {}) {\n",
              "  const element = document.createElement('span');\n",
              "  element.textContent = text;\n",
              "  for (const key of Object.keys(styleAttributes)) {\n",
              "    element.style[key] = styleAttributes[key];\n",
              "  }\n",
              "  return element;\n",
              "}\n",
              "\n",
              "// Max number of bytes which will be uploaded at a time.\n",
              "const MAX_PAYLOAD_SIZE = 100 * 1024;\n",
              "\n",
              "function _uploadFiles(inputId, outputId) {\n",
              "  const steps = uploadFilesStep(inputId, outputId);\n",
              "  const outputElement = document.getElementById(outputId);\n",
              "  // Cache steps on the outputElement to make it available for the next call\n",
              "  // to uploadFilesContinue from Python.\n",
              "  outputElement.steps = steps;\n",
              "\n",
              "  return _uploadFilesContinue(outputId);\n",
              "}\n",
              "\n",
              "// This is roughly an async generator (not supported in the browser yet),\n",
              "// where there are multiple asynchronous steps and the Python side is going\n",
              "// to poll for completion of each step.\n",
              "// This uses a Promise to block the python side on completion of each step,\n",
              "// then passes the result of the previous step as the input to the next step.\n",
              "function _uploadFilesContinue(outputId) {\n",
              "  const outputElement = document.getElementById(outputId);\n",
              "  const steps = outputElement.steps;\n",
              "\n",
              "  const next = steps.next(outputElement.lastPromiseValue);\n",
              "  return Promise.resolve(next.value.promise).then((value) => {\n",
              "    // Cache the last promise value to make it available to the next\n",
              "    // step of the generator.\n",
              "    outputElement.lastPromiseValue = value;\n",
              "    return next.value.response;\n",
              "  });\n",
              "}\n",
              "\n",
              "/**\n",
              " * Generator function which is called between each async step of the upload\n",
              " * process.\n",
              " * @param {string} inputId Element ID of the input file picker element.\n",
              " * @param {string} outputId Element ID of the output display.\n",
              " * @return {!Iterable<!Object>} Iterable of next steps.\n",
              " */\n",
              "function* uploadFilesStep(inputId, outputId) {\n",
              "  const inputElement = document.getElementById(inputId);\n",
              "  inputElement.disabled = false;\n",
              "\n",
              "  const outputElement = document.getElementById(outputId);\n",
              "  outputElement.innerHTML = '';\n",
              "\n",
              "  const pickedPromise = new Promise((resolve) => {\n",
              "    inputElement.addEventListener('change', (e) => {\n",
              "      resolve(e.target.files);\n",
              "    });\n",
              "  });\n",
              "\n",
              "  const cancel = document.createElement('button');\n",
              "  inputElement.parentElement.appendChild(cancel);\n",
              "  cancel.textContent = 'Cancel upload';\n",
              "  const cancelPromise = new Promise((resolve) => {\n",
              "    cancel.onclick = () => {\n",
              "      resolve(null);\n",
              "    };\n",
              "  });\n",
              "\n",
              "  // Wait for the user to pick the files.\n",
              "  const files = yield {\n",
              "    promise: Promise.race([pickedPromise, cancelPromise]),\n",
              "    response: {\n",
              "      action: 'starting',\n",
              "    }\n",
              "  };\n",
              "\n",
              "  cancel.remove();\n",
              "\n",
              "  // Disable the input element since further picks are not allowed.\n",
              "  inputElement.disabled = true;\n",
              "\n",
              "  if (!files) {\n",
              "    return {\n",
              "      response: {\n",
              "        action: 'complete',\n",
              "      }\n",
              "    };\n",
              "  }\n",
              "\n",
              "  for (const file of files) {\n",
              "    const li = document.createElement('li');\n",
              "    li.append(span(file.name, {fontWeight: 'bold'}));\n",
              "    li.append(span(\n",
              "        `(${file.type || 'n/a'}) - ${file.size} bytes, ` +\n",
              "        `last modified: ${\n",
              "            file.lastModifiedDate ? file.lastModifiedDate.toLocaleDateString() :\n",
              "                                    'n/a'} - `));\n",
              "    const percent = span('0% done');\n",
              "    li.appendChild(percent);\n",
              "\n",
              "    outputElement.appendChild(li);\n",
              "\n",
              "    const fileDataPromise = new Promise((resolve) => {\n",
              "      const reader = new FileReader();\n",
              "      reader.onload = (e) => {\n",
              "        resolve(e.target.result);\n",
              "      };\n",
              "      reader.readAsArrayBuffer(file);\n",
              "    });\n",
              "    // Wait for the data to be ready.\n",
              "    let fileData = yield {\n",
              "      promise: fileDataPromise,\n",
              "      response: {\n",
              "        action: 'continue',\n",
              "      }\n",
              "    };\n",
              "\n",
              "    // Use a chunked sending to avoid message size limits. See b/62115660.\n",
              "    let position = 0;\n",
              "    do {\n",
              "      const length = Math.min(fileData.byteLength - position, MAX_PAYLOAD_SIZE);\n",
              "      const chunk = new Uint8Array(fileData, position, length);\n",
              "      position += length;\n",
              "\n",
              "      const base64 = btoa(String.fromCharCode.apply(null, chunk));\n",
              "      yield {\n",
              "        response: {\n",
              "          action: 'append',\n",
              "          file: file.name,\n",
              "          data: base64,\n",
              "        },\n",
              "      };\n",
              "\n",
              "      let percentDone = fileData.byteLength === 0 ?\n",
              "          100 :\n",
              "          Math.round((position / fileData.byteLength) * 100);\n",
              "      percent.textContent = `${percentDone}% done`;\n",
              "\n",
              "    } while (position < fileData.byteLength);\n",
              "  }\n",
              "\n",
              "  // All done.\n",
              "  yield {\n",
              "    response: {\n",
              "      action: 'complete',\n",
              "    }\n",
              "  };\n",
              "}\n",
              "\n",
              "scope.google = scope.google || {};\n",
              "scope.google.colab = scope.google.colab || {};\n",
              "scope.google.colab._files = {\n",
              "  _uploadFiles,\n",
              "  _uploadFilesContinue,\n",
              "};\n",
              "})(self);\n",
              "</script> "
            ]
          },
          "metadata": {}
        },
        {
          "output_type": "stream",
          "name": "stdout",
          "text": [
            "Saving Nada Valgo Sin Tu Amor.wav to Nada Valgo Sin Tu Amor.wav\n"
          ]
        }
      ]
    },
    {
      "cell_type": "markdown",
      "source": [
        "## 📌 6. Verificar y convertir el archivo (si es necesario)\n",
        "Antes de usar Whisper, verificamos si el archivo necesita conversión.\n",
        "\n",
        "Si no cumple con los requisitos, **lo convertimos a 16 kHz mono**.\n"
      ],
      "metadata": {
        "id": "0bMk72TaGprx"
      }
    },
    {
      "cell_type": "code",
      "source": [
        "if not verificar_audio(str(audio_path)):\n",
        "    print(\"⏳ Convirtiendo archivo a 16kHz mono...\")\n",
        "    if convertir_audio(str(audio_path), str(converted_audio)):\n",
        "        print(\"✅ Conversión completada.\")\n",
        "        audio_path = converted_audio\n",
        "    else:\n",
        "        print(\"❌ No se pudo convertir el archivo.\")\n",
        "else:\n",
        "    print(\"✅ El archivo ya está en formato correcto.\")"
      ],
      "metadata": {
        "colab": {
          "base_uri": "https://localhost:8080/"
        },
        "id": "mAWZjoxSGymt",
        "outputId": "d0f3b83b-e507-4bd3-935e-170f3e9aab41"
      },
      "execution_count": 6,
      "outputs": [
        {
          "output_type": "stream",
          "name": "stdout",
          "text": [
            "🎵 Formato: wav, 🎚️ Frecuencia: 44100 Hz, 🔊 Canales: 2\n",
            "⚠️ El archivo necesita conversión a 16kHz mono.\n",
            "⏳ Convirtiendo archivo a 16kHz mono...\n",
            "✅ Conversión completada.\n"
          ]
        }
      ]
    },
    {
      "cell_type": "markdown",
      "source": [
        "## 📌 7. Reproducir el audio convertido\n",
        "Después de la conversión, aseguramos que el archivo convertido **existe** antes de reproducirlo.\n"
      ],
      "metadata": {
        "id": "4mM8ccnHG3TX"
      }
    },
    {
      "cell_type": "code",
      "source": [
        "if converted_audio.exists():\n",
        "    Audio(str(converted_audio))  # Reproducir el archivo en Google Colab\n",
        "else:\n",
        "    print(\"⚠️ Error: El archivo de audio convertido no existe.\")"
      ],
      "metadata": {
        "id": "OiJKIVNuHCIk"
      },
      "execution_count": 7,
      "outputs": []
    },
    {
      "cell_type": "markdown",
      "source": [
        "## 📌 8. Cargar el modelo Whisper\n",
        "Ahora cargamos el modelo **\"large\"** de Whisper.  \n",
        "**Nota:** Después de probar otros modelos como el \"small\" y el \"medium\", el **\"large\"** es el que mejor realiza la transcripción.  \n"
      ],
      "metadata": {
        "id": "qWEnUqCeHHUZ"
      }
    },
    {
      "cell_type": "code",
      "source": [
        "model = whisper.load_model(\"large\")  # Cargar modelo de Whisper"
      ],
      "metadata": {
        "colab": {
          "base_uri": "https://localhost:8080/"
        },
        "id": "5XDGc6jsIRqU",
        "outputId": "e11cbd19-4d8a-466e-a9a4-a1b840f7370d"
      },
      "execution_count": 8,
      "outputs": [
        {
          "output_type": "stream",
          "name": "stderr",
          "text": [
            "100%|█████████████████████████████████████| 2.88G/2.88G [01:52<00:00, 27.3MiB/s]\n",
            "/usr/local/lib/python3.11/dist-packages/whisper/__init__.py:150: FutureWarning: You are using `torch.load` with `weights_only=False` (the current default value), which uses the default pickle module implicitly. It is possible to construct malicious pickle data which will execute arbitrary code during unpickling (See https://github.com/pytorch/pytorch/blob/main/SECURITY.md#untrusted-models for more details). In a future release, the default value for `weights_only` will be flipped to `True`. This limits the functions that could be executed during unpickling. Arbitrary objects will no longer be allowed to be loaded via this mode unless they are explicitly allowlisted by the user via `torch.serialization.add_safe_globals`. We recommend you start setting `weights_only=True` for any use case where you don't have full control of the loaded file. Please open an issue on GitHub for any issues related to this experimental feature.\n",
            "  checkpoint = torch.load(fp, map_location=device)\n"
          ]
        }
      ]
    },
    {
      "cell_type": "markdown",
      "source": [
        "## 📌 9. Transcribir el audio\n",
        "Ejecutamos Whisper para transcribir el archivo **con una barra de progreso**.\n"
      ],
      "metadata": {
        "id": "WKJSsSD5IgSD"
      }
    },
    {
      "cell_type": "code",
      "source": [
        "print(\"⏳ Transcribiendo audio...\")\n",
        "with tqdm(total=100) as pbar:\n",
        "    result = model.transcribe(str(audio_path))\n",
        "    pbar.update(100)\n",
        "\n",
        "# Mostrar la transcripción final\n",
        "print(\"\\n🎤 **Transcripción:**\")\n",
        "print(result[\"text\"])"
      ],
      "metadata": {
        "colab": {
          "base_uri": "https://localhost:8080/"
        },
        "id": "p_LmhlcBIkTz",
        "outputId": "29df167c-bebd-436b-95b9-bd4f9685329e"
      },
      "execution_count": 9,
      "outputs": [
        {
          "output_type": "stream",
          "name": "stdout",
          "text": [
            "⏳ Transcribiendo audio...\n"
          ]
        },
        {
          "output_type": "stream",
          "name": "stderr",
          "text": [
            "100%|██████████| 100/100 [00:52<00:00,  1.92it/s]"
          ]
        },
        {
          "output_type": "stream",
          "name": "stdout",
          "text": [
            "\n",
            "🎤 **Transcripción:**\n",
            " Cuando el tiempo pasa y nos hacemos viejos, nos empieza a parecer que pesan más los daños que los mismos años al final. Por eso yo quiero que mis años pasen junto a ti mi amor eterno, junto a mi familia, junto a mis amigos y mi voz. Porque nada valgo, porque nada tengo, si no tengo lo mejor, tu amor y compañía en mi corazón. Y es que vale más un año tardío que un siglo vacío amor, y es que vale más tener bien llenito el corazón. Por eso yo quiero que en mi mente siempre tu cariño. Que tu cariño esté bien fuerte, aunque estemos lejos o aunque estemos cerca del final. Porque nada valgo, porque nada tengo, si no tengo lo mejor, tu amor y compañía en mi corazón. Ven amor, me siento débil cuando estoy sin ti, me hago fuerte cuando estás aquí. Sin ti yo ya no sé qué es. Mi vida es un túnel sin tu luz. Quiero pasar más tiempo junto a ti, recuperar las noches que perdí. Ven ser el miedo inmenso de morir y ser eterno junto a ti. Porque nada valgo, porque nada tengo, si no tengo lo mejor, tu amor y compañía en mi corazón. Y es que vale más un año tardío que un siglo vacío amor, y es que vale más un año tardío que un siglo vacío amor. Por eso yo quiero que en mi mente siempre tu cariño. Que tu cariño esté bien fuerte, aunque estemos lejos o aunque estemos cerca del final. Porque nada valgo, porque nada tengo, si no tengo lo mejor, tu amor y compañía en mi corazón. Ven amor, me siento débil cuando estoy sin ti, me hago fuerte cuando estás aquí. Sin ti yo ya no sé qué es vivir. Mi vida es un túnel sin tu luz. Quiero pasar más tiempo junto a ti, recuperar las noches que perdí. Ven ser el miedo inmenso de morir y ser eterno junto a ti. ¿Y por qué nada pago? ¿Por qué nada tengo? Si no tengo lo mejor Tu amor y compañía en mi corazón\n"
          ]
        },
        {
          "output_type": "stream",
          "name": "stderr",
          "text": [
            "\n"
          ]
        }
      ]
    },
    {
      "cell_type": "markdown",
      "source": [
        "## 📌 10. Evaluar la transcripción\n",
        "Finalmente, podemos comparar la transcripción obtenida con la letra original de la canción.\n"
      ],
      "metadata": {
        "id": "XZ4KuCILIp8b"
      }
    },
    {
      "cell_type": "code",
      "source": [
        "import difflib\n",
        "import re\n",
        "import nltk\n",
        "from difflib import SequenceMatcher\n",
        "\n",
        "# Descargar el tokenizer de NLTK si es necesario\n",
        "nltk.download('punkt')\n",
        "from nltk.tokenize import sent_tokenize\n",
        "\n",
        "# Texto original de la canción\n",
        "texto_original = \"\"\"Cuando el tiempo pasa y nos hacemos viejos\n",
        "Nos empieza a parecer\n",
        "Que pesan más los daños que los mismos años, al final\n",
        "Por eso yo quiero que mis años pasen\n",
        "Junto a ti, mi amor eterno\n",
        "Junto a mi familia, junto a mis amigos y mi voz\n",
        "Porque nada valgo, porque nada tengo\n",
        "Si no tengo lo mejor\n",
        "Tu amor y compañía en mi corazón\n",
        "Y es que vale más un año tardío que un siglo vacío, amor\n",
        "Y es que vale más tener bien llenito el corazón\n",
        "Por eso yo quiero que, en mi mente siempre tu cariño esté bien fuerte\n",
        "Aunque estemos lejos o, aunque estemos cerca del final\n",
        "Porque nada valgo, porque nada tengo\n",
        "Si no tengo lo mejor\n",
        "Tu amor y compañía en mi corazón, ¡ven amor!\n",
        "Me siento débil cuando estoy sin ti\n",
        "Y me hago fuerte cuando estás aquí\n",
        "Sin ti yo ya no sé qué es vivir\n",
        "Mi vida es un túnel sin tu luz\n",
        "Quiero pasar más tiempo junto a ti\n",
        "Recuperar las noches que perdí\n",
        "Vencer el miedo inmenso de morir\n",
        "Y ser eterno junto a ti\n",
        "Porque nada valgo, porque nada tengo\n",
        "Si no tengo lo mejor\n",
        "Tu amor y compañía en mi corazón\n",
        "Por eso yo quiero que, en mi mente siempre tu cariño esté bien fuerte\n",
        "Aunque estemos lejos o aunque estemos cerca del final\n",
        "Porque nada valgo, porque nada tengo\n",
        "Si no tengo lo mejor\n",
        "Tu amor y compañía en mi corazón, ¡ven amor!\n",
        "Me siento débil cuando estoy sin ti\n",
        "Y me hago fuerte cuando estás aquí\n",
        "Sin ti yo ya no sé qué es vivir\n",
        "Mi vida es un túnel sin tu luz\n",
        "Quiero pasar más tiempo junto a ti\n",
        "Recuperar las noches que perdí\n",
        "Vencer el miedo inmenso de morir\n",
        "Y ser eterno junto a ti\n",
        "Porque nada valgo, porque nada tengo\n",
        "Si no tengo lo mejor\n",
        "Tu amor y compañía en mi corazón\"\"\"\n",
        "\n",
        "# Transcripción obtenida de Whisper\n",
        "texto_transcrito = result[\"text\"]\n",
        "\n",
        "# Función para limpiar el texto (quitar puntuación y convertir a minúsculas)\n",
        "def limpiar_texto(texto):\n",
        "    texto = texto.lower().strip()  # Convertir a minúsculas y quitar espacios extra\n",
        "    texto = re.sub(r'[^\\w\\s]', '', texto)  # Eliminar puntuación\n",
        "    return texto\n",
        "\n",
        "# Limpiar la transcripción y el texto original\n",
        "texto_original_limpio = limpiar_texto(texto_original).split(\"\\n\")\n",
        "texto_transcrito_limpio = limpiar_texto(texto_transcrito)\n",
        "\n",
        "# Función para encontrar la mejor coincidencia dentro de la transcripción\n",
        "def mejor_coincidencia(linea, texto_completo):\n",
        "    palabras = texto_completo.split()  # Dividir transcripción en palabras\n",
        "    max_similitud = 0\n",
        "    mejor_fragmento = \"\"\n",
        "\n",
        "    for i in range(len(palabras)):\n",
        "        for j in range(i + 3, min(i + 10, len(palabras))):  # Buscar fragmentos de 3 a 10 palabras\n",
        "            fragmento = \" \".join(palabras[i:j])\n",
        "            similitud = SequenceMatcher(None, linea, fragmento).ratio()\n",
        "            if similitud > max_similitud:\n",
        "                max_similitud = similitud\n",
        "                mejor_fragmento = fragmento\n",
        "\n",
        "    return mejor_fragmento, max_similitud\n",
        "\n",
        "# Comparar cada línea del texto original con la transcripción\n",
        "print(\"🔍 Comparación entre la letra original y la transcripción:\\n\")\n",
        "\n",
        "# Inicializar total_similitud y total_lineas antes del bucle\n",
        "total_similitud = 0\n",
        "total_lineas = 0\n",
        "\n",
        "for linea in texto_original_limpio:\n",
        "    coincidencia, similitud = mejor_coincidencia(linea, texto_transcrito_limpio)\n",
        "    total_similitud += similitud  # Acumular el porcentaje de similitud\n",
        "    total_lineas += 1  # Contar la línea\n",
        "    print(f\"🔸 Original: {linea}\")\n",
        "    print(f\"🔹 Transcrito: {coincidencia}\")\n",
        "    print(f\"📊 Similitud: {similitud:.2%}\\n\")\n",
        "\n",
        "# Calcular el porcentaje total promedio\n",
        "porcentaje_total = total_similitud / total_lineas if total_lineas > 0 else 0\n",
        "print(f\"🎯 **Similitud total de la canción:** {porcentaje_total:.2f}%\")"
      ],
      "metadata": {
        "colab": {
          "base_uri": "https://localhost:8080/"
        },
        "id": "XmFFMFVWIyhl",
        "outputId": "0c7c3973-ed4b-43a9-9b08-9e68dad9ef0a"
      },
      "execution_count": 32,
      "outputs": [
        {
          "output_type": "stream",
          "name": "stderr",
          "text": [
            "[nltk_data] Downloading package punkt to /root/nltk_data...\n",
            "[nltk_data]   Package punkt is already up-to-date!\n"
          ]
        },
        {
          "output_type": "stream",
          "name": "stdout",
          "text": [
            "🔍 Comparación entre la letra original y la transcripción:\n",
            "\n",
            "🔸 Original: cuando el tiempo pasa y nos hacemos viejos\n",
            "🔹 Transcrito: cuando el tiempo pasa y nos hacemos viejos\n",
            "📊 Similitud: 100.00%\n",
            "\n",
            "🔸 Original: nos empieza a parecer\n",
            "🔹 Transcrito: nos empieza a parecer\n",
            "📊 Similitud: 100.00%\n",
            "\n",
            "🔸 Original: que pesan más los daños que los mismos años al final\n",
            "🔹 Transcrito: que pesan más los daños que los mismos años\n",
            "📊 Similitud: 90.53%\n",
            "\n",
            "🔸 Original: por eso yo quiero que mis años pasen\n",
            "🔹 Transcrito: por eso yo quiero que mis años pasen\n",
            "📊 Similitud: 100.00%\n",
            "\n",
            "🔸 Original: junto a ti mi amor eterno\n",
            "🔹 Transcrito: junto a ti mi amor eterno\n",
            "📊 Similitud: 100.00%\n",
            "\n",
            "🔸 Original: junto a mi familia junto a mis amigos y mi voz\n",
            "🔹 Transcrito: junto a mi familia junto a mis amigos y\n",
            "📊 Similitud: 91.76%\n",
            "\n",
            "🔸 Original: porque nada valgo porque nada tengo\n",
            "🔹 Transcrito: porque nada valgo porque nada tengo\n",
            "📊 Similitud: 100.00%\n",
            "\n",
            "🔸 Original: si no tengo lo mejor\n",
            "🔹 Transcrito: si no tengo lo mejor\n",
            "📊 Similitud: 100.00%\n",
            "\n",
            "🔸 Original: tu amor y compañía en mi corazón\n",
            "🔹 Transcrito: tu amor y compañía en mi corazón\n",
            "📊 Similitud: 100.00%\n",
            "\n",
            "🔸 Original: y es que vale más un año tardío que un siglo vacío amor\n",
            "🔹 Transcrito: vale más un año tardío que un siglo vacío\n",
            "📊 Similitud: 85.42%\n",
            "\n",
            "🔸 Original: y es que vale más tener bien llenito el corazón\n",
            "🔹 Transcrito: es que vale más tener bien llenito el corazón\n",
            "📊 Similitud: 97.83%\n",
            "\n",
            "🔸 Original: por eso yo quiero que en mi mente siempre tu cariño esté bien fuerte\n",
            "🔹 Transcrito: yo quiero que en mi mente siempre tu cariño\n",
            "📊 Similitud: 77.48%\n",
            "\n",
            "🔸 Original: aunque estemos lejos o aunque estemos cerca del final\n",
            "🔹 Transcrito: aunque estemos lejos o aunque estemos cerca del final\n",
            "📊 Similitud: 100.00%\n",
            "\n",
            "🔸 Original: porque nada valgo porque nada tengo\n",
            "🔹 Transcrito: porque nada valgo porque nada tengo\n",
            "📊 Similitud: 100.00%\n",
            "\n",
            "🔸 Original: si no tengo lo mejor\n",
            "🔹 Transcrito: si no tengo lo mejor\n",
            "📊 Similitud: 100.00%\n",
            "\n",
            "🔸 Original: tu amor y compañía en mi corazón ven amor\n",
            "🔹 Transcrito: tu amor y compañía en mi corazón ven amor\n",
            "📊 Similitud: 100.00%\n",
            "\n",
            "🔸 Original: me siento débil cuando estoy sin ti\n",
            "🔹 Transcrito: me siento débil cuando estoy sin ti\n",
            "📊 Similitud: 100.00%\n",
            "\n",
            "🔸 Original: y me hago fuerte cuando estás aquí\n",
            "🔹 Transcrito: me hago fuerte cuando estás aquí\n",
            "📊 Similitud: 96.97%\n",
            "\n",
            "🔸 Original: sin ti yo ya no sé qué es vivir\n",
            "🔹 Transcrito: sin ti yo ya no sé qué es vivir\n",
            "📊 Similitud: 100.00%\n",
            "\n",
            "🔸 Original: mi vida es un túnel sin tu luz\n",
            "🔹 Transcrito: mi vida es un túnel sin tu luz\n",
            "📊 Similitud: 100.00%\n",
            "\n",
            "🔸 Original: quiero pasar más tiempo junto a ti\n",
            "🔹 Transcrito: quiero pasar más tiempo junto a ti\n",
            "📊 Similitud: 100.00%\n",
            "\n",
            "🔸 Original: recuperar las noches que perdí\n",
            "🔹 Transcrito: recuperar las noches que perdí\n",
            "📊 Similitud: 100.00%\n",
            "\n",
            "🔸 Original: vencer el miedo inmenso de morir\n",
            "🔹 Transcrito: ven ser el miedo inmenso de morir\n",
            "📊 Similitud: 95.38%\n",
            "\n",
            "🔸 Original: y ser eterno junto a ti\n",
            "🔹 Transcrito: y ser eterno junto a ti\n",
            "📊 Similitud: 100.00%\n",
            "\n",
            "🔸 Original: porque nada valgo porque nada tengo\n",
            "🔹 Transcrito: porque nada valgo porque nada tengo\n",
            "📊 Similitud: 100.00%\n",
            "\n",
            "🔸 Original: si no tengo lo mejor\n",
            "🔹 Transcrito: si no tengo lo mejor\n",
            "📊 Similitud: 100.00%\n",
            "\n",
            "🔸 Original: tu amor y compañía en mi corazón\n",
            "🔹 Transcrito: tu amor y compañía en mi corazón\n",
            "📊 Similitud: 100.00%\n",
            "\n",
            "🔸 Original: por eso yo quiero que en mi mente siempre tu cariño esté bien fuerte\n",
            "🔹 Transcrito: yo quiero que en mi mente siempre tu cariño\n",
            "📊 Similitud: 77.48%\n",
            "\n",
            "🔸 Original: aunque estemos lejos o aunque estemos cerca del final\n",
            "🔹 Transcrito: aunque estemos lejos o aunque estemos cerca del final\n",
            "📊 Similitud: 100.00%\n",
            "\n",
            "🔸 Original: porque nada valgo porque nada tengo\n",
            "🔹 Transcrito: porque nada valgo porque nada tengo\n",
            "📊 Similitud: 100.00%\n",
            "\n",
            "🔸 Original: si no tengo lo mejor\n",
            "🔹 Transcrito: si no tengo lo mejor\n",
            "📊 Similitud: 100.00%\n",
            "\n",
            "🔸 Original: tu amor y compañía en mi corazón ven amor\n",
            "🔹 Transcrito: tu amor y compañía en mi corazón ven amor\n",
            "📊 Similitud: 100.00%\n",
            "\n",
            "🔸 Original: me siento débil cuando estoy sin ti\n",
            "🔹 Transcrito: me siento débil cuando estoy sin ti\n",
            "📊 Similitud: 100.00%\n",
            "\n",
            "🔸 Original: y me hago fuerte cuando estás aquí\n",
            "🔹 Transcrito: me hago fuerte cuando estás aquí\n",
            "📊 Similitud: 96.97%\n",
            "\n",
            "🔸 Original: sin ti yo ya no sé qué es vivir\n",
            "🔹 Transcrito: sin ti yo ya no sé qué es vivir\n",
            "📊 Similitud: 100.00%\n",
            "\n",
            "🔸 Original: mi vida es un túnel sin tu luz\n",
            "🔹 Transcrito: mi vida es un túnel sin tu luz\n",
            "📊 Similitud: 100.00%\n",
            "\n",
            "🔸 Original: quiero pasar más tiempo junto a ti\n",
            "🔹 Transcrito: quiero pasar más tiempo junto a ti\n",
            "📊 Similitud: 100.00%\n",
            "\n",
            "🔸 Original: recuperar las noches que perdí\n",
            "🔹 Transcrito: recuperar las noches que perdí\n",
            "📊 Similitud: 100.00%\n",
            "\n",
            "🔸 Original: vencer el miedo inmenso de morir\n",
            "🔹 Transcrito: ven ser el miedo inmenso de morir\n",
            "📊 Similitud: 95.38%\n",
            "\n",
            "🔸 Original: y ser eterno junto a ti\n",
            "🔹 Transcrito: y ser eterno junto a ti\n",
            "📊 Similitud: 100.00%\n",
            "\n",
            "🔸 Original: porque nada valgo porque nada tengo\n",
            "🔹 Transcrito: porque nada valgo porque nada tengo\n",
            "📊 Similitud: 100.00%\n",
            "\n",
            "🔸 Original: si no tengo lo mejor\n",
            "🔹 Transcrito: si no tengo lo mejor\n",
            "📊 Similitud: 100.00%\n",
            "\n",
            "🔸 Original: tu amor y compañía en mi corazón\n",
            "🔹 Transcrito: tu amor y compañía en mi corazón\n",
            "📊 Similitud: 100.00%\n",
            "\n",
            "🎯 **Similitud total de la canción:** 0.98%\n"
          ]
        }
      ]
    }
  ]
}