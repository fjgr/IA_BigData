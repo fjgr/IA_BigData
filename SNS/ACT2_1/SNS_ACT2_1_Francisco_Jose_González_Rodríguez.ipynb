{
  "nbformat": 4,
  "nbformat_minor": 0,
  "metadata": {
    "colab": {
      "provenance": [],
      "authorship_tag": "ABX9TyNqrj/r1ss+pgou7x0aIsxz",
      "include_colab_link": true
    },
    "kernelspec": {
      "name": "python3",
      "display_name": "Python 3"
    },
    "language_info": {
      "name": "python"
    }
  },
  "cells": [
    {
      "cell_type": "markdown",
      "metadata": {
        "id": "view-in-github",
        "colab_type": "text"
      },
      "source": [
        "<a href=\"https://colab.research.google.com/github/fjgr/IA_BigData/blob/main/SNS/ACT2_1/SNS_ACT2_1_Francisco_Jose_Gonz%C3%A1lez_Rodr%C3%ADguez.ipynb\" target=\"_parent\"><img src=\"https://colab.research.google.com/assets/colab-badge.svg\" alt=\"Open In Colab\"/></a>"
      ]
    },
    {
      "cell_type": "markdown",
      "source": [
        "**1. A partir del código de ejemplo utilizado en el notebook**"
      ],
      "metadata": {
        "id": "hsQWb1xFyI2y"
      }
    },
    {
      "cell_type": "code",
      "execution_count": 35,
      "metadata": {
        "colab": {
          "base_uri": "https://localhost:8080/"
        },
        "id": "cRVsMLVZM-lg",
        "outputId": "525b4320-bf94-49f8-82dd-386714ddcb61"
      },
      "outputs": [
        {
          "output_type": "execute_result",
          "data": {
            "text/plain": [
              "array([15074.66819   , 15089.68269319, 15132.45566942, 15241.5689625 ,\n",
              "       15327.72616909, 15503.95629792, 15709.89495861, 15719.06905765,\n",
              "       15719.55257321, 15728.28185329, 15872.94431475, 15904.48184281,\n",
              "       15927.23491833, 16028.71449257, 16036.77010857, 16127.15170237,\n",
              "       16245.1220535 , 16607.45597619, 16797.16551156, 16832.43642362,\n",
              "       16863.47220096, 16864.63160484, 16875.37028611, 16876.34475689,\n",
              "       17005.76444524, 17182.01931163, 17305.34258418, 17413.7754064 ,\n",
              "       17483.67704246, 17810.01846606, 17857.02084092, 18118.78694936,\n",
              "       18419.71346583, 18499.83990931, 18530.68909214, 18549.84278932,\n",
              "       18672.8728978 , 18684.49667998, 18720.75424441, 18809.13802636,\n",
              "       18907.8436067 , 18913.26175236, 19177.22593541, 19207.11980825,\n",
              "       19253.79127316, 19492.11978216, 19544.54788635, 19666.26468738,\n",
              "       19700.70460333, 19738.61075128, 19747.50227418, 19758.48275033,\n",
              "       19904.35379468, 20037.1804181 , 20166.15977327, 20187.85730669,\n",
              "       20299.88023186, 20358.0901472 , 20424.12233987, 20550.8576804 ,\n",
              "       20585.53393578, 20646.08812405, 20686.27983574, 20965.42430299,\n",
              "       20982.85186746, 21036.95481799, 21093.1159835 , 21240.92164059,\n",
              "       21509.97466902, 21709.39468339, 22078.715379  , 22179.83070278,\n",
              "       22204.65015308, 22249.41395902, 22250.99100669, 22308.1568198 ,\n",
              "       22474.53586271, 22653.74838078, 22706.62390082, 22779.89154029,\n",
              "       22971.61493021, 22997.62896921, 23304.81173425, 23333.40804294,\n",
              "       23337.8089531 , 23374.18004414, 23501.59544049, 23510.28765534,\n",
              "       23660.44516353, 23667.4413153 , 23743.08754473, 24120.01694439,\n",
              "       24245.26978319, 24326.1339205 , 24415.50346386, 24691.40450455,\n",
              "       24711.13398624, 24816.37883395, 24818.64280059, 24980.62965119])"
            ]
          },
          "metadata": {},
          "execution_count": 35
        }
      ],
      "source": [
        "# Tratamiento de datos\n",
        "# ==============================================================================\n",
        "import numpy as np\n",
        "import pandas as pd\n",
        "\n",
        "# Generación de datos\n",
        "# ==============================================================================\n",
        "# Generamos (100 elementos) ingresos uniformemente distribuidos en [15000,25000]\n",
        "datos = 15000+np.random.rand(100)*10000\n",
        "datos_ord = datos\n",
        "datos_ord.sort()\n",
        "datos"
      ]
    },
    {
      "cell_type": "markdown",
      "source": [
        "**a) Calcular la media y la mediana antes de realizar la modificación de incluir unos ingresos de 500.000€**"
      ],
      "metadata": {
        "id": "0RFFlHp8NyJY"
      }
    },
    {
      "cell_type": "code",
      "source": [
        "# Cálculo de la media y mediana\n",
        "media=  np.mean(datos)\n",
        "mediana=  np.median (datos) # Es el valor central cuando los datos se ordenan\n",
        "print(f\" Media= {media} y Mediana={mediana}\")"
      ],
      "metadata": {
        "colab": {
          "base_uri": "https://localhost:8080/"
        },
        "id": "NQ1PYU0zN98X",
        "outputId": "d16d7c57-7fc8-495b-e246-c806776851d7"
      },
      "execution_count": 36,
      "outputs": [
        {
          "output_type": "stream",
          "name": "stdout",
          "text": [
            " Media= 19810.76402819502 y Mediana=19743.05651272835\n"
          ]
        }
      ]
    },
    {
      "cell_type": "code",
      "source": [
        "# Simulamos que el vecino 50 tiene unos ingresos significativamente mayores que el resto\n",
        "datos[50]=500000"
      ],
      "metadata": {
        "id": "lyeEfcjprBkW"
      },
      "execution_count": null,
      "outputs": []
    },
    {
      "cell_type": "markdown",
      "source": [
        "**b) Aplicar el método de Probabilidad global, para detectar los outliers\n",
        "utilizado en el ejemplo 2_3_Outliers**"
      ],
      "metadata": {
        "id": "r8p-XuBYOM_O"
      }
    },
    {
      "cell_type": "code",
      "source": [
        "# Cálculo de probabilidades\n",
        "p_g=0.95\n",
        "# Probabilidad global\n",
        "alfa_g=(1-p_g)/2\n",
        "# Probabilidad  para un solo dato\n",
        "alfa= 1-(1-alfa_g)**(1/len(datos)) # Se realiza este ajuste para ser más precisos.\n",
        "\n",
        "# Impresión de resultados\n",
        "alfa=round(alfa,5)\n",
        "print(f\" Alfa ={alfa}\")\n",
        "\n",
        "# Cálculo de las bandas de confianza\n",
        "xL=  round(np.mean(datos)-alfa*  np.std(datos),4)\n",
        "xU=  round(np.mean(datos)+alfa*  np.std(datos),4)\n",
        "print(f\" Banda= [ {xL},{xU}]\")\n",
        "\n",
        "# Identificación de outliers\n",
        "for i in  range(len(datos)):\n",
        "        if datos[i] < xL  or datos[i]>xU:\n",
        "          print(f\" El dato[{i}]={datos[i]} es un outlier\")\n"
      ],
      "metadata": {
        "colab": {
          "base_uri": "https://localhost:8080/"
        },
        "id": "5wymsotnOrKC",
        "outputId": "331b5d69-106b-45b0-97b8-83c14d9fb8ef"
      },
      "execution_count": null,
      "outputs": [
        {
          "output_type": "stream",
          "name": "stdout",
          "text": [
            " Alfa =0.00025\n",
            " Banda= [ 25012.824,25036.7405]\n",
            " El dato[0]=15014.505291454432 es un outlier\n",
            " El dato[1]=15200.62529578811 es un outlier\n",
            " El dato[2]=15262.55104918867 es un outlier\n",
            " El dato[3]=15273.729784929059 es un outlier\n",
            " El dato[4]=15327.382511518024 es un outlier\n",
            " El dato[5]=15432.198899002808 es un outlier\n",
            " El dato[6]=15666.04334164447 es un outlier\n",
            " El dato[7]=15759.205321465339 es un outlier\n",
            " El dato[8]=15929.715198540276 es un outlier\n",
            " El dato[9]=15943.548290234887 es un outlier\n",
            " El dato[10]=16030.329035469184 es un outlier\n",
            " El dato[11]=16058.839191617612 es un outlier\n",
            " El dato[12]=16077.141384002149 es un outlier\n",
            " El dato[13]=16314.815057568601 es un outlier\n",
            " El dato[14]=16509.898256886914 es un outlier\n",
            " El dato[15]=16575.023526531524 es un outlier\n",
            " El dato[16]=16679.675737370173 es un outlier\n",
            " El dato[17]=17051.70208406944 es un outlier\n",
            " El dato[18]=17188.138127339254 es un outlier\n",
            " El dato[19]=17273.642107229607 es un outlier\n",
            " El dato[20]=17284.599622440906 es un outlier\n",
            " El dato[21]=17352.527427588313 es un outlier\n",
            " El dato[22]=17473.656018036487 es un outlier\n",
            " El dato[23]=17525.183974588355 es un outlier\n",
            " El dato[24]=17552.2302877133 es un outlier\n",
            " El dato[25]=17593.42745155539 es un outlier\n",
            " El dato[26]=17644.956275725373 es un outlier\n",
            " El dato[27]=17696.48704456631 es un outlier\n",
            " El dato[28]=17733.712388890828 es un outlier\n",
            " El dato[29]=17885.282199476635 es un outlier\n",
            " El dato[30]=17889.163282680573 es un outlier\n",
            " El dato[31]=18048.271369077294 es un outlier\n",
            " El dato[32]=18371.10423654456 es un outlier\n",
            " El dato[33]=18588.65974854042 es un outlier\n",
            " El dato[34]=18648.182354154334 es un outlier\n",
            " El dato[35]=18731.3798914775 es un outlier\n",
            " El dato[36]=18745.343463682155 es un outlier\n",
            " El dato[37]=18791.13869428989 es un outlier\n",
            " El dato[38]=18820.591171942564 es un outlier\n",
            " El dato[39]=18911.281253104702 es un outlier\n",
            " El dato[40]=18971.37869650241 es un outlier\n",
            " El dato[41]=19026.57998194043 es un outlier\n",
            " El dato[42]=19201.74737534853 es un outlier\n",
            " El dato[43]=19296.419210889246 es un outlier\n",
            " El dato[44]=19345.458040142737 es un outlier\n",
            " El dato[45]=19720.84746173372 es un outlier\n",
            " El dato[46]=19730.991119943777 es un outlier\n",
            " El dato[47]=19969.899894196038 es un outlier\n",
            " El dato[48]=20179.917929546664 es un outlier\n",
            " El dato[49]=20189.38769741058 es un outlier\n",
            " El dato[50]=500000.0 es un outlier\n",
            " El dato[51]=20318.195074919066 es un outlier\n",
            " El dato[52]=20318.576439960212 es un outlier\n",
            " El dato[53]=20837.90339865258 es un outlier\n",
            " El dato[54]=20972.592809871305 es un outlier\n",
            " El dato[55]=21057.9670666692 es un outlier\n",
            " El dato[56]=21219.817259411273 es un outlier\n",
            " El dato[57]=21301.292397920955 es un outlier\n",
            " El dato[58]=21372.945113342194 es un outlier\n",
            " El dato[59]=21411.585481778784 es un outlier\n",
            " El dato[60]=21527.880472971163 es un outlier\n",
            " El dato[61]=21664.973080986463 es un outlier\n",
            " El dato[62]=21827.463767032066 es un outlier\n",
            " El dato[63]=22014.301177571448 es un outlier\n",
            " El dato[64]=22032.99662411332 es un outlier\n",
            " El dato[65]=22203.91099161156 es un outlier\n",
            " El dato[66]=22211.303571020595 es un outlier\n",
            " El dato[67]=22303.61588400892 es un outlier\n",
            " El dato[68]=22361.075895859718 es un outlier\n",
            " El dato[69]=22493.581632353227 es un outlier\n",
            " El dato[70]=22544.685148369463 es un outlier\n",
            " El dato[71]=22575.126735414113 es un outlier\n",
            " El dato[72]=22871.317348834444 es un outlier\n",
            " El dato[73]=22894.11869576514 es un outlier\n",
            " El dato[74]=22981.119118221606 es un outlier\n",
            " El dato[75]=22988.188913143877 es un outlier\n",
            " El dato[76]=23122.46183662671 es un outlier\n",
            " El dato[77]=23137.771806345416 es un outlier\n",
            " El dato[78]=23169.289772513854 es un outlier\n",
            " El dato[79]=23459.120631771344 es un outlier\n",
            " El dato[80]=23623.502210947245 es un outlier\n",
            " El dato[81]=23659.224270554798 es un outlier\n",
            " El dato[82]=23763.53743467873 es un outlier\n",
            " El dato[83]=23817.81082268097 es un outlier\n",
            " El dato[84]=23922.951172092486 es un outlier\n",
            " El dato[85]=23923.369615952666 es un outlier\n",
            " El dato[86]=23991.562973606964 es un outlier\n",
            " El dato[87]=24035.739816484034 es un outlier\n",
            " El dato[88]=24088.200370476276 es un outlier\n",
            " El dato[89]=24268.870598229427 es un outlier\n",
            " El dato[90]=24279.187209101703 es un outlier\n",
            " El dato[91]=24306.474827384023 es un outlier\n",
            " El dato[92]=24402.165088780468 es un outlier\n",
            " El dato[93]=24412.74049786223 es un outlier\n",
            " El dato[94]=24539.645403877847 es un outlier\n",
            " El dato[95]=24875.948055961966 es un outlier\n",
            " El dato[96]=24926.20584278652 es un outlier\n",
            " El dato[97]=24973.09039552829 es un outlier\n",
            " El dato[98]=24986.343151428067 es un outlier\n",
            " El dato[99]=24997.96498719752 es un outlier\n"
          ]
        }
      ]
    },
    {
      "cell_type": "markdown",
      "source": [
        "**c) Repetir el mismo procedimiento de detectar los outliers para la\n",
        "mediana: ¿Qué ocurre?**"
      ],
      "metadata": {
        "id": "7nowSKbHXQW1"
      }
    },
    {
      "cell_type": "code",
      "source": [
        "# Cálculo de bandas usando la mediana\n",
        "std = np.std(datos)  # Desviación estándar.\n",
        "xL_mediana = round(mediana - alfa * std, 4)\n",
        "xU_mediana = round(mediana + alfa * std, 4)\n",
        "print(f\" Banda con mediana = [ {xL_mediana}, {xU_mediana} ]\")\n",
        "\n",
        "# Identificación de outliers basados en la mediana\n",
        "for i, valor in enumerate(datos):\n",
        "    if valor < xL_mediana or valor > xU_mediana:\n",
        "        print(f\" El dato[{i}]={valor} es un outlier basado en la mediana\")"
      ],
      "metadata": {
        "colab": {
          "base_uri": "https://localhost:8080/"
        },
        "id": "q9sg656PXeFA",
        "outputId": "c37e5a3e-2abf-4ae3-8f25-19886082388e"
      },
      "execution_count": null,
      "outputs": [
        {
          "output_type": "stream",
          "name": "stdout",
          "text": [
            " Banda con mediana = [ 19623.9864, 19647.9029 ]\n",
            " El dato[0]=15014.505291454432 es un outlier basado en la mediana\n",
            " El dato[1]=15200.62529578811 es un outlier basado en la mediana\n",
            " El dato[2]=15262.55104918867 es un outlier basado en la mediana\n",
            " El dato[3]=15273.729784929059 es un outlier basado en la mediana\n",
            " El dato[4]=15327.382511518024 es un outlier basado en la mediana\n",
            " El dato[5]=15432.198899002808 es un outlier basado en la mediana\n",
            " El dato[6]=15666.04334164447 es un outlier basado en la mediana\n",
            " El dato[7]=15759.205321465339 es un outlier basado en la mediana\n",
            " El dato[8]=15929.715198540276 es un outlier basado en la mediana\n",
            " El dato[9]=15943.548290234887 es un outlier basado en la mediana\n",
            " El dato[10]=16030.329035469184 es un outlier basado en la mediana\n",
            " El dato[11]=16058.839191617612 es un outlier basado en la mediana\n",
            " El dato[12]=16077.141384002149 es un outlier basado en la mediana\n",
            " El dato[13]=16314.815057568601 es un outlier basado en la mediana\n",
            " El dato[14]=16509.898256886914 es un outlier basado en la mediana\n",
            " El dato[15]=16575.023526531524 es un outlier basado en la mediana\n",
            " El dato[16]=16679.675737370173 es un outlier basado en la mediana\n",
            " El dato[17]=17051.70208406944 es un outlier basado en la mediana\n",
            " El dato[18]=17188.138127339254 es un outlier basado en la mediana\n",
            " El dato[19]=17273.642107229607 es un outlier basado en la mediana\n",
            " El dato[20]=17284.599622440906 es un outlier basado en la mediana\n",
            " El dato[21]=17352.527427588313 es un outlier basado en la mediana\n",
            " El dato[22]=17473.656018036487 es un outlier basado en la mediana\n",
            " El dato[23]=17525.183974588355 es un outlier basado en la mediana\n",
            " El dato[24]=17552.2302877133 es un outlier basado en la mediana\n",
            " El dato[25]=17593.42745155539 es un outlier basado en la mediana\n",
            " El dato[26]=17644.956275725373 es un outlier basado en la mediana\n",
            " El dato[27]=17696.48704456631 es un outlier basado en la mediana\n",
            " El dato[28]=17733.712388890828 es un outlier basado en la mediana\n",
            " El dato[29]=17885.282199476635 es un outlier basado en la mediana\n",
            " El dato[30]=17889.163282680573 es un outlier basado en la mediana\n",
            " El dato[31]=18048.271369077294 es un outlier basado en la mediana\n",
            " El dato[32]=18371.10423654456 es un outlier basado en la mediana\n",
            " El dato[33]=18588.65974854042 es un outlier basado en la mediana\n",
            " El dato[34]=18648.182354154334 es un outlier basado en la mediana\n",
            " El dato[35]=18731.3798914775 es un outlier basado en la mediana\n",
            " El dato[36]=18745.343463682155 es un outlier basado en la mediana\n",
            " El dato[37]=18791.13869428989 es un outlier basado en la mediana\n",
            " El dato[38]=18820.591171942564 es un outlier basado en la mediana\n",
            " El dato[39]=18911.281253104702 es un outlier basado en la mediana\n",
            " El dato[40]=18971.37869650241 es un outlier basado en la mediana\n",
            " El dato[41]=19026.57998194043 es un outlier basado en la mediana\n",
            " El dato[42]=19201.74737534853 es un outlier basado en la mediana\n",
            " El dato[43]=19296.419210889246 es un outlier basado en la mediana\n",
            " El dato[44]=19345.458040142737 es un outlier basado en la mediana\n",
            " El dato[45]=19720.84746173372 es un outlier basado en la mediana\n",
            " El dato[46]=19730.991119943777 es un outlier basado en la mediana\n",
            " El dato[47]=19969.899894196038 es un outlier basado en la mediana\n",
            " El dato[48]=20179.917929546664 es un outlier basado en la mediana\n",
            " El dato[49]=20189.38769741058 es un outlier basado en la mediana\n",
            " El dato[50]=500000.0 es un outlier basado en la mediana\n",
            " El dato[51]=20318.195074919066 es un outlier basado en la mediana\n",
            " El dato[52]=20318.576439960212 es un outlier basado en la mediana\n",
            " El dato[53]=20837.90339865258 es un outlier basado en la mediana\n",
            " El dato[54]=20972.592809871305 es un outlier basado en la mediana\n",
            " El dato[55]=21057.9670666692 es un outlier basado en la mediana\n",
            " El dato[56]=21219.817259411273 es un outlier basado en la mediana\n",
            " El dato[57]=21301.292397920955 es un outlier basado en la mediana\n",
            " El dato[58]=21372.945113342194 es un outlier basado en la mediana\n",
            " El dato[59]=21411.585481778784 es un outlier basado en la mediana\n",
            " El dato[60]=21527.880472971163 es un outlier basado en la mediana\n",
            " El dato[61]=21664.973080986463 es un outlier basado en la mediana\n",
            " El dato[62]=21827.463767032066 es un outlier basado en la mediana\n",
            " El dato[63]=22014.301177571448 es un outlier basado en la mediana\n",
            " El dato[64]=22032.99662411332 es un outlier basado en la mediana\n",
            " El dato[65]=22203.91099161156 es un outlier basado en la mediana\n",
            " El dato[66]=22211.303571020595 es un outlier basado en la mediana\n",
            " El dato[67]=22303.61588400892 es un outlier basado en la mediana\n",
            " El dato[68]=22361.075895859718 es un outlier basado en la mediana\n",
            " El dato[69]=22493.581632353227 es un outlier basado en la mediana\n",
            " El dato[70]=22544.685148369463 es un outlier basado en la mediana\n",
            " El dato[71]=22575.126735414113 es un outlier basado en la mediana\n",
            " El dato[72]=22871.317348834444 es un outlier basado en la mediana\n",
            " El dato[73]=22894.11869576514 es un outlier basado en la mediana\n",
            " El dato[74]=22981.119118221606 es un outlier basado en la mediana\n",
            " El dato[75]=22988.188913143877 es un outlier basado en la mediana\n",
            " El dato[76]=23122.46183662671 es un outlier basado en la mediana\n",
            " El dato[77]=23137.771806345416 es un outlier basado en la mediana\n",
            " El dato[78]=23169.289772513854 es un outlier basado en la mediana\n",
            " El dato[79]=23459.120631771344 es un outlier basado en la mediana\n",
            " El dato[80]=23623.502210947245 es un outlier basado en la mediana\n",
            " El dato[81]=23659.224270554798 es un outlier basado en la mediana\n",
            " El dato[82]=23763.53743467873 es un outlier basado en la mediana\n",
            " El dato[83]=23817.81082268097 es un outlier basado en la mediana\n",
            " El dato[84]=23922.951172092486 es un outlier basado en la mediana\n",
            " El dato[85]=23923.369615952666 es un outlier basado en la mediana\n",
            " El dato[86]=23991.562973606964 es un outlier basado en la mediana\n",
            " El dato[87]=24035.739816484034 es un outlier basado en la mediana\n",
            " El dato[88]=24088.200370476276 es un outlier basado en la mediana\n",
            " El dato[89]=24268.870598229427 es un outlier basado en la mediana\n",
            " El dato[90]=24279.187209101703 es un outlier basado en la mediana\n",
            " El dato[91]=24306.474827384023 es un outlier basado en la mediana\n",
            " El dato[92]=24402.165088780468 es un outlier basado en la mediana\n",
            " El dato[93]=24412.74049786223 es un outlier basado en la mediana\n",
            " El dato[94]=24539.645403877847 es un outlier basado en la mediana\n",
            " El dato[95]=24875.948055961966 es un outlier basado en la mediana\n",
            " El dato[96]=24926.20584278652 es un outlier basado en la mediana\n",
            " El dato[97]=24973.09039552829 es un outlier basado en la mediana\n",
            " El dato[98]=24986.343151428067 es un outlier basado en la mediana\n",
            " El dato[99]=24997.96498719752 es un outlier basado en la mediana\n"
          ]
        }
      ]
    },
    {
      "cell_type": "markdown",
      "source": [
        "**NOTA:** El uso de la mediana mejora parcialmente el análisis porque el centro de las bandas no se ve afectado por valores extremos. Sin embargo, para resolver completamente el problema y detectar correctamente los outliers, deberíamos usar una medida robusta de dispersión como IQR"
      ],
      "metadata": {
        "id": "R-kC0WDUgNFe"
      }
    },
    {
      "cell_type": "code",
      "source": [
        "# Cálculo del rango intercuartílico (IQR)\n",
        "Q1 = np.percentile(datos, 25)  # Primer cuartil\n",
        "Q3 = np.percentile(datos, 75)  # Tercer cuartil\n",
        "IQR = Q3 - Q1  # Rango intercuartílico\n",
        "\n",
        "# Definición de las bandas usando el IQR\n",
        "k = 1.5  # Factor estándar para definir outliers\n",
        "xL = Q1 - k * IQR\n",
        "xU = Q3 + k * IQR\n",
        "\n",
        "# Identificación de outliers\n",
        "outliers = [valor for valor in datos if valor < xL or valor > xU]\n",
        "\n",
        "# Mostrar resultados\n",
        "print(f\"Q1 (25%): {Q1}\")\n",
        "print(f\"Q3 (75%): {Q3}\")\n",
        "print(f\"IQR: {IQR}\")\n",
        "print(f\"Límite inferior (xL): {xL}\")\n",
        "print(f\"Límite superior (xU): {xU}\")\n",
        "print(f\"Outliers detectados: {outliers}\")\n"
      ],
      "metadata": {
        "colab": {
          "base_uri": "https://localhost:8080/"
        },
        "id": "mqsELdR8gNm4",
        "outputId": "64a5bc81-5598-4007-abe3-20a3b3f66143"
      },
      "execution_count": null,
      "outputs": [
        {
          "output_type": "stream",
          "name": "stdout",
          "text": [
            "Q1 (25%): 17583.128160594868\n",
            "Q3 (75%): 23021.757144014584\n",
            "IQR: 5438.628983419716\n",
            "Límite inferior (xL): 9425.184685465294\n",
            "Límite superior (xU): 31179.700619144158\n",
            "Outliers detectados: [500000.0]\n"
          ]
        }
      ]
    },
    {
      "cell_type": "markdown",
      "source": [
        "**2. A partir del código de ejemplo utilizado en el notebook**"
      ],
      "metadata": {
        "id": "NBvtjBj5yNgv"
      }
    },
    {
      "cell_type": "markdown",
      "source": [
        "**a) ¿Cuánto vale la media, mediana, la desviación estándar muestral, la varianza muestral y el rango de la variable X?**"
      ],
      "metadata": {
        "id": "naj585X8z0Pv"
      }
    },
    {
      "cell_type": "code",
      "source": [
        "import numpy as np\n",
        "\n",
        "# Definir los datos proporcionados para la variable X\n",
        "X = np.array([1, 2, 3, 4, 5, 6, 7, 8, 9, 10])\n",
        "\n",
        "# Calcular las estadísticas solicitadas\n",
        "media = np.mean(X)\n",
        "mediana = np.median(X)\n",
        "desviacion_estandar = np.std(X)  # Desviación estándar\n",
        "varianza_muestral = np.var(X)  # Varianza\n",
        "rango = np.max(X) - np.min(X)\n",
        "\n",
        "# Imprimir los resultados\n",
        "print(f\"Media: {media}\")\n",
        "print(f\"Mediana: {mediana}\")\n",
        "print(f\"Desviación estándar (STD): {desviacion_estandar}\")\n",
        "print(f\"Varianza muestral: {varianza_muestral}\")\n",
        "print(f\"Rango: {rango}\")\n"
      ],
      "metadata": {
        "colab": {
          "base_uri": "https://localhost:8080/"
        },
        "id": "hFZyGcyIz-Zf",
        "outputId": "de192d64-cecc-4abf-efd5-bfc471cafbe7"
      },
      "execution_count": null,
      "outputs": [
        {
          "output_type": "stream",
          "name": "stdout",
          "text": [
            "Media: 5.5\n",
            "Mediana: 5.5\n",
            "Desviación estándar (STD): 2.8722813232690143\n",
            "Varianza muestral: 8.25\n",
            "Rango: 9\n"
          ]
        }
      ]
    },
    {
      "cell_type": "markdown",
      "source": [
        "**b) Utilizar la función describe() de Panda, para obtener la media,\n",
        "desviación estándar, etc…**"
      ],
      "metadata": {
        "id": "-ORa9RJ-5amX"
      }
    },
    {
      "cell_type": "code",
      "source": [
        "import pandas as pd\n",
        "\n",
        "# Definir los datos proporcionados para la variable X\n",
        "X = pd.Series(X)\n",
        "\n",
        "# Usar describe() para obtener estadísticas\n",
        "descripcion = X.describe()\n",
        "\n",
        "# Imprimir los resultados\n",
        "print(descripcion)\n"
      ],
      "metadata": {
        "colab": {
          "base_uri": "https://localhost:8080/"
        },
        "id": "vw_owdKD5pY8",
        "outputId": "3747c117-472c-4b0d-b9ea-e56e40d71940"
      },
      "execution_count": 37,
      "outputs": [
        {
          "output_type": "stream",
          "name": "stdout",
          "text": [
            "count    10.00000\n",
            "mean      5.50000\n",
            "std       3.02765\n",
            "min       1.00000\n",
            "25%       3.25000\n",
            "50%       5.50000\n",
            "75%       7.75000\n",
            "max      10.00000\n",
            "dtype: float64\n"
          ]
        }
      ]
    },
    {
      "cell_type": "markdown",
      "source": [
        "**c) ¿Por qué el resultado de calcular la desviación estándar con Numpy es diferente a la calculada por describe de Panda?**"
      ],
      "metadata": {
        "id": "vddqCLLv7zmo"
      }
    },
    {
      "cell_type": "markdown",
      "source": [
        "Numpy std():\n",
        "\n",
        "    Por defecto, NumPy utiliza ddof=0, que calcula la desviación estándar poblacional.\n",
        "    Esto significa que divide por N, donde N es el número total de elementos.\n",
        "    Cuando especificamos ddof=1, NumPy calcula la desviación estándar muestral, dividiendo por N−1.\n",
        "\n",
        "Pandas describe():\n",
        "\n",
        "    Pandas utiliza por defecto ddof=1, que corresponde a la desviación estándar muestral. Esto es lo que se muestra en el resumen generado por describe()."
      ],
      "metadata": {
        "id": "IhbgPsQy-0A_"
      }
    },
    {
      "cell_type": "markdown",
      "source": [
        "**¿Qué ajuste sería necesario realizar para que los resultados fuesen similares/iguales?**"
      ],
      "metadata": {
        "id": "kOnD8Tuf8J83"
      }
    },
    {
      "cell_type": "markdown",
      "source": [
        "Para que los resultados de NumPy y Pandas sean consistentes, hay que asegurarse de usar el mismo valor de ddof en ambas herramientas, y para este caso adaptamos NumPy."
      ],
      "metadata": {
        "id": "2Rgw3U9V_UAb"
      }
    },
    {
      "cell_type": "code",
      "source": [
        "desviacion_estandar = np.std(X, ddof=1)  # Desviación estándar muestral\n",
        "print(f\"Desviación estándar muestral (STD): {desviacion_estandar}\")"
      ],
      "metadata": {
        "colab": {
          "base_uri": "https://localhost:8080/"
        },
        "id": "FjcJigV2AZpI",
        "outputId": "f67418b0-774d-402b-e171-c45a37e699d0"
      },
      "execution_count": 38,
      "outputs": [
        {
          "output_type": "stream",
          "name": "stdout",
          "text": [
            "Desviación estándar muestral (STD): 3.0276503540974917\n"
          ]
        }
      ]
    },
    {
      "cell_type": "markdown",
      "source": [
        "**d) Estandarizar la variable (escalamiento) mediante rangos y a continuación calcular la media y la mediana de la variable escalada.**"
      ],
      "metadata": {
        "id": "nVgeEmatC0Tg"
      }
    },
    {
      "cell_type": "code",
      "source": [
        "# Importamos librerias.\n",
        "from sklearn.compose import ColumnTransformer\n",
        "from sklearn.preprocessing import MinMaxScaler\n",
        "\n",
        "# Crear DataFrame para facilitar el preprocesamiento\n",
        "Data = pd.DataFrame(X, columns=[\"Variable_X\"])\n",
        "\n",
        "# Escalamiento mediante rangos\n",
        "# ==============================================================================\n",
        "# Definir el MinMaxScaler para el escalamiento por rangos\n",
        "preprocessor_RR = ColumnTransformer(\n",
        "    [('scale', MinMaxScaler(), [\"Variable_X\"])], remainder='passthrough')\n",
        "\n",
        "# Transformar los datos\n",
        "Data_prep_RR = preprocessor_RR.fit_transform(Data)\n",
        "\n",
        "# Crear un DataFrame para los datos escalados\n",
        "Data_scaled = pd.DataFrame(Data_prep_RR, columns=[\"Variable_X_Scaled\"])\n",
        "\n",
        "# Calcular la media y la mediana de la variable escalada\n",
        "media_escalada = Data_scaled[\"Variable_X_Scaled\"].mean()\n",
        "mediana_escalada = Data_scaled[\"Variable_X_Scaled\"].median()\n",
        "\n",
        "# Mostrar los resultados\n",
        "print(\"Variable original:\")\n",
        "print(Data)\n",
        "print(\"\\nVariable escalada por rangos:\")\n",
        "print(Data_scaled)\n",
        "print(f\"\\nMedia de la variable escalada: {media_escalada}\")\n",
        "print(f\"Mediana de la variable escalada: {mediana_escalada}\")"
      ],
      "metadata": {
        "colab": {
          "base_uri": "https://localhost:8080/"
        },
        "id": "gf6CeNw8x1M2",
        "outputId": "f6e726f7-6948-4171-b3d9-9038270ac986"
      },
      "execution_count": null,
      "outputs": [
        {
          "output_type": "stream",
          "name": "stdout",
          "text": [
            "Variable original:\n",
            "   Variable_X\n",
            "0           1\n",
            "1           2\n",
            "2           3\n",
            "3           4\n",
            "4           5\n",
            "5           6\n",
            "6           7\n",
            "7           8\n",
            "8           9\n",
            "9          10\n",
            "\n",
            "Variable escalada por rangos:\n",
            "   Variable_X_Scaled\n",
            "0           0.000000\n",
            "1           0.111111\n",
            "2           0.222222\n",
            "3           0.333333\n",
            "4           0.444444\n",
            "5           0.555556\n",
            "6           0.666667\n",
            "7           0.777778\n",
            "8           0.888889\n",
            "9           1.000000\n",
            "\n",
            "Media de la variable escalada: 0.5\n",
            "Mediana de la variable escalada: 0.5\n"
          ]
        }
      ]
    },
    {
      "cell_type": "markdown",
      "source": [
        "**e) Repetir el apartado anterior con el escalamiento Z - score**\n"
      ],
      "metadata": {
        "id": "jhaCRpJdAghP"
      }
    },
    {
      "cell_type": "code",
      "source": [
        "# Importamos librerias.\n",
        "from sklearn.preprocessing import StandardScaler  # Escalamiento Z-score\n",
        "\n",
        "# Escalamiento mediante Z-score\n",
        "# ==============================================================================\n",
        "# Definir el StandardScaler para el escalamiento Z-score\n",
        "preprocessor_SS = ColumnTransformer(\n",
        "    [('scale', StandardScaler(), [\"Variable_X\"])], remainder='passthrough')\n",
        "\n",
        "# Transformar los datos\n",
        "Data_prep_SS = preprocessor_SS.fit_transform(Data)\n",
        "\n",
        "# Crear un DataFrame para los datos escalados\n",
        "Data_scaled = pd.DataFrame(Data_prep_SS, columns=[\"Variable_X_Scaled\"])\n",
        "\n",
        "# Calcular la media y la mediana de la variable escalada\n",
        "media_escalada = Data_scaled[\"Variable_X_Scaled\"].mean()\n",
        "mediana_escalada = Data_scaled[\"Variable_X_Scaled\"].median()\n",
        "\n",
        "# Mostrar los resultados\n",
        "print(\"Variable original:\")\n",
        "print(Data)\n",
        "print(\"\\nVariable escalada con Z-score:\")\n",
        "print(Data_scaled)\n",
        "print(f\"\\nMedia de la variable escalada: {media_escalada}\")\n",
        "print(f\"Mediana de la variable escalada: {mediana_escalada}\")\n"
      ],
      "metadata": {
        "colab": {
          "base_uri": "https://localhost:8080/"
        },
        "id": "4AqnU43iArqy",
        "outputId": "a48204a8-d85b-43d3-bd8d-ee37806ab22a"
      },
      "execution_count": null,
      "outputs": [
        {
          "output_type": "stream",
          "name": "stdout",
          "text": [
            "Variable original:\n",
            "   Variable_X\n",
            "0           1\n",
            "1           2\n",
            "2           3\n",
            "3           4\n",
            "4           5\n",
            "5           6\n",
            "6           7\n",
            "7           8\n",
            "8           9\n",
            "9          10\n",
            "\n",
            "Variable escalada con Z-score:\n",
            "   Variable_X_Scaled\n",
            "0          -1.566699\n",
            "1          -1.218544\n",
            "2          -0.870388\n",
            "3          -0.522233\n",
            "4          -0.174078\n",
            "5           0.174078\n",
            "6           0.522233\n",
            "7           0.870388\n",
            "8           1.218544\n",
            "9           1.566699\n",
            "\n",
            "Media de la variable escalada: -6.661338147750939e-17\n",
            "Mediana de la variable escalada: 0.0\n"
          ]
        }
      ]
    }
  ]
}