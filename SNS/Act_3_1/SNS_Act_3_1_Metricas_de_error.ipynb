{
  "nbformat": 4,
  "nbformat_minor": 0,
  "metadata": {
    "colab": {
      "provenance": [],
      "include_colab_link": true
    },
    "kernelspec": {
      "name": "python3",
      "display_name": "Python 3"
    },
    "language_info": {
      "name": "python"
    }
  },
  "cells": [
    {
      "cell_type": "markdown",
      "metadata": {
        "id": "view-in-github",
        "colab_type": "text"
      },
      "source": [
        "<a href=\"https://colab.research.google.com/github/fjgr/IA_BigData/blob/main/SNS/Act_3_1/SNS_Act_3_1_Metricas_de_error.ipynb\" target=\"_parent\"><img src=\"https://colab.research.google.com/assets/colab-badge.svg\" alt=\"Open In Colab\"/></a>"
      ]
    },
    {
      "cell_type": "markdown",
      "source": [
        "24_25\n",
        "\n",
        "Actividad 3.1 - Métricas de error para los problemas de regresión\n",
        "\n",
        "A partir de los ejemplos indicados realizar los ejercicios propuestos"
      ],
      "metadata": {
        "id": "irnc2RYVuYVU"
      }
    },
    {
      "cell_type": "code",
      "execution_count": 2,
      "metadata": {
        "colab": {
          "base_uri": "https://localhost:8080/"
        },
        "id": "jVLFdfzxdsfG",
        "outputId": "df356d6e-d7f7-48e2-911b-62d30beb5607"
      },
      "outputs": [
        {
          "output_type": "execute_result",
          "data": {
            "text/plain": [
              "0.0"
            ]
          },
          "metadata": {},
          "execution_count": 2
        }
      ],
      "source": [
        "#Error absoluto medio - mae\n",
        "from sklearn.metrics import mean_absolute_error\n",
        "# Ejemplo 1\n",
        "y_true = [2.5, 0, 2, 8]\n",
        "y_pred = [2.5, 0, 2, 8]\n",
        "mean_absolute_error(y_true, y_pred)\n"
      ]
    },
    {
      "cell_type": "code",
      "source": [
        "# Ejer 1: Crear dos vectores/arrays de valores ciertos y valores previstos, y calcular el mae.\n",
        "# ¿Qué valores deberían de tener el array pred para que el error fuese 0? ¿y para que error fuese de 0.25?\n",
        "\n",
        "# Importar la función MAE\n",
        "from sklearn.metrics import mean_absolute_error\n",
        "\n",
        "# Caso 1: Error = 0\n",
        "y_true_1 = [3, 1.5, 2, 4]\n",
        "y_pred_1 = [3, 1.5, 2, 4]  # Los valores previstos son idénticos a los reales\n",
        "mae_0 = mean_absolute_error(y_true_1, y_pred_1)\n",
        "\n",
        "print(f\"MAE cuando los valores previstos son idénticos a los reales: {mae_0}\")\n",
        "\n",
        "# Caso 2: Error = 0.25\n",
        "y_true_2 = [3, 1.5, 2, 4]\n",
        "y_pred_2 = [3.25, 1.25, 2.25, 3.75]  # Se introduce un error controlado\n",
        "mae_025 = mean_absolute_error(y_true_2, y_pred_2)\n",
        "\n",
        "print(f\"MAE cuando hay un error promedio de 0.25: {mae_025}\")\n"
      ],
      "metadata": {
        "id": "67XK1bXegMai",
        "colab": {
          "base_uri": "https://localhost:8080/"
        },
        "outputId": "724e094e-a704-4626-9870-d68cb9a84150"
      },
      "execution_count": 15,
      "outputs": [
        {
          "output_type": "stream",
          "name": "stdout",
          "text": [
            "MAE cuando los valores previstos son idénticos a los reales: 0.0\n",
            "MAE cuando hay un error promedio de 0.25: 0.25\n"
          ]
        }
      ]
    },
    {
      "cell_type": "code",
      "source": [
        "# Ejemplo 2\n",
        "y_true = [[0.5, 1], [-1, 1], [7, -6]]\n",
        "y_pred = [[0, 2], [-1, 2], [8, -5]]\n",
        "mean_absolute_error(y_true, y_pred)"
      ],
      "metadata": {
        "id": "3LhzsD30f60T",
        "colab": {
          "base_uri": "https://localhost:8080/"
        },
        "outputId": "4cf82aea-cb29-4652-ea15-7da6fbd84094"
      },
      "execution_count": 4,
      "outputs": [
        {
          "output_type": "execute_result",
          "data": {
            "text/plain": [
              "0.75"
            ]
          },
          "metadata": {},
          "execution_count": 4
        }
      ]
    },
    {
      "cell_type": "code",
      "source": [
        "# Ejer 2: Crear dos matrices/arrays de valores ciertos y valores previstos, y calcular el mae.\n",
        "# ¿Qué valores deberían de tener el array pred para que el error fuese 0? ¿y para que error fuese de 0.33?\n",
        "\n",
        "# Importar la función MAE\n",
        "from sklearn.metrics import mean_absolute_error\n",
        "import numpy as np\n",
        "\n",
        "# Caso 1: Error = 0\n",
        "y_true_1 = np.array([[1, 2, 3], [4, 5, 6], [7, 8, 9]])\n",
        "y_pred_1 = np.array([[1, 2, 3], [4, 5, 6], [7, 8, 9]])  # Igual a y_true_1\n",
        "mae_0 = mean_absolute_error(y_true_1, y_pred_1)\n",
        "\n",
        "print(f\"MAE cuando las matrices son idénticas: {mae_0}\")\n",
        "\n",
        "# Caso 2: Error = 0.33\n",
        "y_true_2 = np.array([[1, 2, 3], [4, 5, 6], [7, 8, 9]])\n",
        "y_pred_2 = np.array([[1.33, 1.67, 3.33], [3.67, 5.33, 5.67], [7.33, 7.67, 9.33]])  # Introduce un error controlado\n",
        "mae_033 = mean_absolute_error(y_true_2, y_pred_2)\n",
        "\n",
        "print(f\"MAE cuando el error promedio es 0.33: {mae_033}\")\n"
      ],
      "metadata": {
        "id": "LnPx6A4Astfq",
        "colab": {
          "base_uri": "https://localhost:8080/"
        },
        "outputId": "b74e8c98-e6cc-4b9c-fe6c-67c7c51d3cd2"
      },
      "execution_count": 9,
      "outputs": [
        {
          "output_type": "stream",
          "name": "stdout",
          "text": [
            "MAE cuando las matrices son idénticas: 0.0\n",
            "MAE cuando el error promedio es 0.33: 0.33000000000000007\n"
          ]
        }
      ]
    },
    {
      "cell_type": "code",
      "source": [
        "# Error cuadrático medio - mse\n",
        "from sklearn.metrics import mean_squared_error\n",
        "y_true = [3, -0.5, 2, 7]\n",
        "y_pred = [2.5, 0.0, 2, 8]\n",
        "mean_squared_error(y_true, y_pred)\n"
      ],
      "metadata": {
        "colab": {
          "base_uri": "https://localhost:8080/"
        },
        "id": "59efr-GWgKP6",
        "outputId": "5e0f3921-187c-443d-bf93-3dc9457e7e49"
      },
      "execution_count": 10,
      "outputs": [
        {
          "output_type": "execute_result",
          "data": {
            "text/plain": [
              "0.375"
            ]
          },
          "metadata": {},
          "execution_count": 10
        }
      ]
    },
    {
      "cell_type": "code",
      "source": [
        "# Ejer 3: Crear dos vectores/arrays de valores ciertos y valores previstos, y calcular el mse.\n",
        "# ¿Qué valores deberían de tener el array pred para que el error fuese 0? ¿y para que error fuese de 0.25?\n",
        "# Nota: Es muy interesante comparar los resultados al aplicar mae y mse sobre el mismo conjunto de datos. Podrás obervar\n",
        "# que mse \"penaliza más\" (es decir, el número que se obtiene es mayor) con las diferencias entre los valores originales y los predichos que mae\n",
        "\n",
        "from sklearn.metrics import mean_squared_error\n",
        "import numpy as np\n",
        "\n",
        "# Valores ciertos\n",
        "y_true = np.array([3.5, 4.0, 2.0, 8.0])\n",
        "\n",
        "# Caso 1: Para MSE = 0, las predicciones deben coincidir con los valores reales\n",
        "y_pred_0 = y_true.copy()\n",
        "mse_0 = mean_squared_error(y_true, y_pred_0)\n",
        "\n",
        "# Caso 2: Para MSE = 0.25\n",
        "# Ajustamos las predicciones para que las diferencias cuadradas promedio sean 0.25\n",
        "y_pred_025 = np.array([3.0, 4.5, 2.5, 7.5])  # Un ejemplo\n",
        "mse_025 = mean_squared_error(y_true, y_pred_025)\n",
        "\n",
        "# Comparación con MAE\n",
        "from sklearn.metrics import mean_absolute_error\n",
        "mae_025 = mean_absolute_error(y_true, y_pred_025)\n",
        "\n",
        "# Resultados\n",
        "print(f\"Para MSE=0, predicciones MSE: {mse_0}\")\n",
        "print(f\"Para MSE=0.25, predicciones MSE: {mse_025}\")\n",
        "print(f\"Para MSE=0.25, el MAE en este caso es: {mae_025}\")\n"
      ],
      "metadata": {
        "id": "FLZt6j17u7sE",
        "colab": {
          "base_uri": "https://localhost:8080/"
        },
        "outputId": "58fbfb17-e535-4fbb-9152-3606e7f24c4c"
      },
      "execution_count": 23,
      "outputs": [
        {
          "output_type": "stream",
          "name": "stdout",
          "text": [
            "Para MSE=0, predicciones MSE: 0.0\n",
            "Para MSE=0.25, predicciones MSE: 0.25\n",
            "Para MSE=0.25, el MAE en este caso es: 0.5\n"
          ]
        }
      ]
    },
    {
      "cell_type": "code",
      "source": [
        "# Ejer 4: Crear dos matrices/arrays de valores ciertos y valores previstos, y calcular el mae.\n",
        "# ¿Qué valores deberían de tener el array pred para que el error fuese 0? ¿y para que error fuese de 0.33?\n",
        "\n",
        "import numpy as np\n",
        "from sklearn.metrics import mean_absolute_error\n",
        "\n",
        "# Valores ciertos\n",
        "y_true = np.array([[3.5, 4.0], [2.0, 8.0]])\n",
        "\n",
        "# Caso 1: Para MAE = 0\n",
        "y_pred_0 = y_true.copy()  # Las predicciones deben coincidir\n",
        "mae_0 = mean_absolute_error(y_true, y_pred_0)\n",
        "\n",
        "# Caso 2: Para MAE = 0.33\n",
        "# Ajustamos las predicciones para que las diferencias absolutas promedio sean 0.33\n",
        "y_pred_033 = np.array([[3.83, 3.67], [1.67, 8.33]])  # Un ejemplo\n",
        "mae_033 = mean_absolute_error(y_true, y_pred_033)\n",
        "\n",
        "# Resultados\n",
        "print(f\"Para MAE=0, predicciones para MAE: {mae_0}\")\n",
        "print(f\"Para MAE=0.33, predicciones para MAE: {mae_033}\")\n",
        "\n"
      ],
      "metadata": {
        "id": "M9nZd4nLvIRB",
        "colab": {
          "base_uri": "https://localhost:8080/"
        },
        "outputId": "ea41fd1f-1ecb-46ac-dbf2-a1fe80782ad6"
      },
      "execution_count": 25,
      "outputs": [
        {
          "output_type": "stream",
          "name": "stdout",
          "text": [
            "Para MAE=0, predicciones para MAE: 0.0\n",
            "Para MAE=0.33, predicciones para MAE: 0.33000000000000007\n"
          ]
        }
      ]
    },
    {
      "cell_type": "code",
      "source": [
        "# Error de porcentaje absoluto medio - mape\n",
        "from sklearn.metrics import mean_absolute_percentage_error\n",
        "y_true = [3, -0.5, 2, 7]\n",
        "y_pred = [2.5, 0.0, 2, 8]\n",
        "mean_absolute_percentage_error(y_true, y_pred)"
      ],
      "metadata": {
        "colab": {
          "base_uri": "https://localhost:8080/"
        },
        "id": "0j3DDJPnBTmF",
        "outputId": "06e7e412-d2f1-4089-b383-e2466618dd33"
      },
      "execution_count": 26,
      "outputs": [
        {
          "output_type": "execute_result",
          "data": {
            "text/plain": [
              "0.3273809523809524"
            ]
          },
          "metadata": {},
          "execution_count": 26
        }
      ]
    },
    {
      "cell_type": "code",
      "source": [
        "# Ejer 5: Crear dos vectores/arrays de valores ciertos y valores previstos, y calcular el mape.\n",
        "# ¿Qué valores deberían de tener el array pred para que el error fuese 0?\n",
        "\n",
        "import numpy as np\n",
        "\n",
        "# Valores ciertos\n",
        "y_true = np.array([3.5, 4.0, 2.0, 8.0])\n",
        "\n",
        "# Caso 1: Para MAPE = 0, las predicciones deben coincidir con los valores reales\n",
        "y_pred_0 = y_true.copy()  # Las predicciones coinciden con los valores reales\n",
        "\n",
        "# Calcular MAPE\n",
        "def mean_absolute_percentage_error(y_true, y_pred):\n",
        "    return np.mean(np.abs((y_true - y_pred) / y_true)) * 100\n",
        "\n",
        "mape_0 = mean_absolute_percentage_error(y_true, y_pred_0)\n",
        "\n",
        "# Resultados\n",
        "print(f\"Para MAPE=0, predicciones para MAPE: {mape_0}%\")\n"
      ],
      "metadata": {
        "id": "0vsYXdRqB0TE",
        "colab": {
          "base_uri": "https://localhost:8080/"
        },
        "outputId": "83ff33d8-633d-4aa9-89dd-b9ed89d60ced"
      },
      "execution_count": 28,
      "outputs": [
        {
          "output_type": "stream",
          "name": "stdout",
          "text": [
            "Para MAPE=0, predicciones para MAPE: 0.0%\n"
          ]
        }
      ]
    },
    {
      "cell_type": "code",
      "source": [
        "# Ejer 6: Crear dos matrices/arrays de valores ciertos y valores previstos, y calcular el MAPE.\n",
        "# ¿Qué valores deberían de tener el array pred para que el error fuese 0?\n",
        "import numpy as np\n",
        "\n",
        "# Valores reales\n",
        "y_true = np.array([[3.5, 4.0], [2.0, 8.0]])\n",
        "\n",
        "# Caso 1: Para MAPE = 0\n",
        "# Las predicciones deben coincidir exactamente con los valores reales\n",
        "y_pred_0 = y_true.copy()\n",
        "\n",
        "# Calcular MAPE\n",
        "def mean_absolute_percentage_error(y_true, y_pred):\n",
        "    return np.mean(np.abs((y_true - y_pred) / y_true)) * 100\n",
        "\n",
        "mape_0 = mean_absolute_percentage_error(y_true, y_pred_0)\n",
        "\n",
        "# Resultados\n",
        "print(f\"Para MAPE=0, predicciones para MAPE: {mape_0}%\")"
      ],
      "metadata": {
        "id": "085pmFVO-cA3",
        "colab": {
          "base_uri": "https://localhost:8080/"
        },
        "outputId": "7b979bfe-fe8a-4a90-bef2-575c770e6e90"
      },
      "execution_count": 30,
      "outputs": [
        {
          "output_type": "stream",
          "name": "stdout",
          "text": [
            "Para MAPE=0, predicciones para MAPE: 0.0%\n"
          ]
        }
      ]
    }
  ]
}