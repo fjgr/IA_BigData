{
  "nbformat": 4,
  "nbformat_minor": 0,
  "metadata": {
    "colab": {
      "provenance": [],
      "authorship_tag": "ABX9TyNC8DNF++kqvrnhJKiqzcR0",
      "include_colab_link": true
    },
    "kernelspec": {
      "name": "python3",
      "display_name": "Python 3"
    },
    "language_info": {
      "name": "python"
    },
    "widgets": {
      "application/vnd.jupyter.widget-state+json": {
        "e822bba04dc2478eaff27ef275996ac4": {
          "model_module": "@jupyter-widgets/controls",
          "model_name": "HBoxModel",
          "model_module_version": "1.5.0",
          "state": {
            "_dom_classes": [],
            "_model_module": "@jupyter-widgets/controls",
            "_model_module_version": "1.5.0",
            "_model_name": "HBoxModel",
            "_view_count": null,
            "_view_module": "@jupyter-widgets/controls",
            "_view_module_version": "1.5.0",
            "_view_name": "HBoxView",
            "box_style": "",
            "children": [
              "IPY_MODEL_3a7b0f2eba664d98bd1bb36be61863c0",
              "IPY_MODEL_3b80d89b4b91474f850a92a7aa3ea59c",
              "IPY_MODEL_5a6440db61544fb9a4dae30967600a86"
            ],
            "layout": "IPY_MODEL_8a0e584ffe9c40a69c3da45a247a4aee"
          }
        },
        "3a7b0f2eba664d98bd1bb36be61863c0": {
          "model_module": "@jupyter-widgets/controls",
          "model_name": "HTMLModel",
          "model_module_version": "1.5.0",
          "state": {
            "_dom_classes": [],
            "_model_module": "@jupyter-widgets/controls",
            "_model_module_version": "1.5.0",
            "_model_name": "HTMLModel",
            "_view_count": null,
            "_view_module": "@jupyter-widgets/controls",
            "_view_module_version": "1.5.0",
            "_view_name": "HTMLView",
            "description": "",
            "description_tooltip": null,
            "layout": "IPY_MODEL_ff5c33f323be40518b5239edbf38e6b0",
            "placeholder": "​",
            "style": "IPY_MODEL_bdcc110614f34bf19ab6214a1c8ced7f",
            "value": "model.safetensors: 100%"
          }
        },
        "3b80d89b4b91474f850a92a7aa3ea59c": {
          "model_module": "@jupyter-widgets/controls",
          "model_name": "FloatProgressModel",
          "model_module_version": "1.5.0",
          "state": {
            "_dom_classes": [],
            "_model_module": "@jupyter-widgets/controls",
            "_model_module_version": "1.5.0",
            "_model_name": "FloatProgressModel",
            "_view_count": null,
            "_view_module": "@jupyter-widgets/controls",
            "_view_module_version": "1.5.0",
            "_view_name": "ProgressView",
            "bar_style": "success",
            "description": "",
            "description_tooltip": null,
            "layout": "IPY_MODEL_07df4edcccb34ab5b56f5bb183da1bfa",
            "max": 77933206,
            "min": 0,
            "orientation": "horizontal",
            "style": "IPY_MODEL_3d283d5f83254523a294b9d8d4c14f4a",
            "value": 77933206
          }
        },
        "5a6440db61544fb9a4dae30967600a86": {
          "model_module": "@jupyter-widgets/controls",
          "model_name": "HTMLModel",
          "model_module_version": "1.5.0",
          "state": {
            "_dom_classes": [],
            "_model_module": "@jupyter-widgets/controls",
            "_model_module_version": "1.5.0",
            "_model_name": "HTMLModel",
            "_view_count": null,
            "_view_module": "@jupyter-widgets/controls",
            "_view_module_version": "1.5.0",
            "_view_name": "HTMLView",
            "description": "",
            "description_tooltip": null,
            "layout": "IPY_MODEL_f72148d25fae488ebee624fe130b9719",
            "placeholder": "​",
            "style": "IPY_MODEL_cd2f5ea18bc84001bb7164a013ca01db",
            "value": " 77.9M/77.9M [00:00&lt;00:00, 186MB/s]"
          }
        },
        "8a0e584ffe9c40a69c3da45a247a4aee": {
          "model_module": "@jupyter-widgets/base",
          "model_name": "LayoutModel",
          "model_module_version": "1.2.0",
          "state": {
            "_model_module": "@jupyter-widgets/base",
            "_model_module_version": "1.2.0",
            "_model_name": "LayoutModel",
            "_view_count": null,
            "_view_module": "@jupyter-widgets/base",
            "_view_module_version": "1.2.0",
            "_view_name": "LayoutView",
            "align_content": null,
            "align_items": null,
            "align_self": null,
            "border": null,
            "bottom": null,
            "display": null,
            "flex": null,
            "flex_flow": null,
            "grid_area": null,
            "grid_auto_columns": null,
            "grid_auto_flow": null,
            "grid_auto_rows": null,
            "grid_column": null,
            "grid_gap": null,
            "grid_row": null,
            "grid_template_areas": null,
            "grid_template_columns": null,
            "grid_template_rows": null,
            "height": null,
            "justify_content": null,
            "justify_items": null,
            "left": null,
            "margin": null,
            "max_height": null,
            "max_width": null,
            "min_height": null,
            "min_width": null,
            "object_fit": null,
            "object_position": null,
            "order": null,
            "overflow": null,
            "overflow_x": null,
            "overflow_y": null,
            "padding": null,
            "right": null,
            "top": null,
            "visibility": null,
            "width": null
          }
        },
        "ff5c33f323be40518b5239edbf38e6b0": {
          "model_module": "@jupyter-widgets/base",
          "model_name": "LayoutModel",
          "model_module_version": "1.2.0",
          "state": {
            "_model_module": "@jupyter-widgets/base",
            "_model_module_version": "1.2.0",
            "_model_name": "LayoutModel",
            "_view_count": null,
            "_view_module": "@jupyter-widgets/base",
            "_view_module_version": "1.2.0",
            "_view_name": "LayoutView",
            "align_content": null,
            "align_items": null,
            "align_self": null,
            "border": null,
            "bottom": null,
            "display": null,
            "flex": null,
            "flex_flow": null,
            "grid_area": null,
            "grid_auto_columns": null,
            "grid_auto_flow": null,
            "grid_auto_rows": null,
            "grid_column": null,
            "grid_gap": null,
            "grid_row": null,
            "grid_template_areas": null,
            "grid_template_columns": null,
            "grid_template_rows": null,
            "height": null,
            "justify_content": null,
            "justify_items": null,
            "left": null,
            "margin": null,
            "max_height": null,
            "max_width": null,
            "min_height": null,
            "min_width": null,
            "object_fit": null,
            "object_position": null,
            "order": null,
            "overflow": null,
            "overflow_x": null,
            "overflow_y": null,
            "padding": null,
            "right": null,
            "top": null,
            "visibility": null,
            "width": null
          }
        },
        "bdcc110614f34bf19ab6214a1c8ced7f": {
          "model_module": "@jupyter-widgets/controls",
          "model_name": "DescriptionStyleModel",
          "model_module_version": "1.5.0",
          "state": {
            "_model_module": "@jupyter-widgets/controls",
            "_model_module_version": "1.5.0",
            "_model_name": "DescriptionStyleModel",
            "_view_count": null,
            "_view_module": "@jupyter-widgets/base",
            "_view_module_version": "1.2.0",
            "_view_name": "StyleView",
            "description_width": ""
          }
        },
        "07df4edcccb34ab5b56f5bb183da1bfa": {
          "model_module": "@jupyter-widgets/base",
          "model_name": "LayoutModel",
          "model_module_version": "1.2.0",
          "state": {
            "_model_module": "@jupyter-widgets/base",
            "_model_module_version": "1.2.0",
            "_model_name": "LayoutModel",
            "_view_count": null,
            "_view_module": "@jupyter-widgets/base",
            "_view_module_version": "1.2.0",
            "_view_name": "LayoutView",
            "align_content": null,
            "align_items": null,
            "align_self": null,
            "border": null,
            "bottom": null,
            "display": null,
            "flex": null,
            "flex_flow": null,
            "grid_area": null,
            "grid_auto_columns": null,
            "grid_auto_flow": null,
            "grid_auto_rows": null,
            "grid_column": null,
            "grid_gap": null,
            "grid_row": null,
            "grid_template_areas": null,
            "grid_template_columns": null,
            "grid_template_rows": null,
            "height": null,
            "justify_content": null,
            "justify_items": null,
            "left": null,
            "margin": null,
            "max_height": null,
            "max_width": null,
            "min_height": null,
            "min_width": null,
            "object_fit": null,
            "object_position": null,
            "order": null,
            "overflow": null,
            "overflow_x": null,
            "overflow_y": null,
            "padding": null,
            "right": null,
            "top": null,
            "visibility": null,
            "width": null
          }
        },
        "3d283d5f83254523a294b9d8d4c14f4a": {
          "model_module": "@jupyter-widgets/controls",
          "model_name": "ProgressStyleModel",
          "model_module_version": "1.5.0",
          "state": {
            "_model_module": "@jupyter-widgets/controls",
            "_model_module_version": "1.5.0",
            "_model_name": "ProgressStyleModel",
            "_view_count": null,
            "_view_module": "@jupyter-widgets/base",
            "_view_module_version": "1.2.0",
            "_view_name": "StyleView",
            "bar_color": null,
            "description_width": ""
          }
        },
        "f72148d25fae488ebee624fe130b9719": {
          "model_module": "@jupyter-widgets/base",
          "model_name": "LayoutModel",
          "model_module_version": "1.2.0",
          "state": {
            "_model_module": "@jupyter-widgets/base",
            "_model_module_version": "1.2.0",
            "_model_name": "LayoutModel",
            "_view_count": null,
            "_view_module": "@jupyter-widgets/base",
            "_view_module_version": "1.2.0",
            "_view_name": "LayoutView",
            "align_content": null,
            "align_items": null,
            "align_self": null,
            "border": null,
            "bottom": null,
            "display": null,
            "flex": null,
            "flex_flow": null,
            "grid_area": null,
            "grid_auto_columns": null,
            "grid_auto_flow": null,
            "grid_auto_rows": null,
            "grid_column": null,
            "grid_gap": null,
            "grid_row": null,
            "grid_template_areas": null,
            "grid_template_columns": null,
            "grid_template_rows": null,
            "height": null,
            "justify_content": null,
            "justify_items": null,
            "left": null,
            "margin": null,
            "max_height": null,
            "max_width": null,
            "min_height": null,
            "min_width": null,
            "object_fit": null,
            "object_position": null,
            "order": null,
            "overflow": null,
            "overflow_x": null,
            "overflow_y": null,
            "padding": null,
            "right": null,
            "top": null,
            "visibility": null,
            "width": null
          }
        },
        "cd2f5ea18bc84001bb7164a013ca01db": {
          "model_module": "@jupyter-widgets/controls",
          "model_name": "DescriptionStyleModel",
          "model_module_version": "1.5.0",
          "state": {
            "_model_module": "@jupyter-widgets/controls",
            "_model_module_version": "1.5.0",
            "_model_name": "DescriptionStyleModel",
            "_view_count": null,
            "_view_module": "@jupyter-widgets/base",
            "_view_module_version": "1.2.0",
            "_view_name": "StyleView",
            "description_width": ""
          }
        }
      }
    }
  },
  "cells": [
    {
      "cell_type": "markdown",
      "metadata": {
        "id": "view-in-github",
        "colab_type": "text"
      },
      "source": [
        "<a href=\"https://colab.research.google.com/github/fjgr/IA_BigData/blob/main/SNS/DaCiberSalut/DaCiberSalut(dataset_completo).ipynb\" target=\"_parent\"><img src=\"https://colab.research.google.com/assets/colab-badge.svg\" alt=\"Open In Colab\"/></a>"
      ]
    },
    {
      "cell_type": "code",
      "execution_count": null,
      "metadata": {
        "id": "XsEoyhZ62Q1s"
      },
      "outputs": [],
      "source": [
        "!pip install torch torchvision timm numpy pillow gdown"
      ]
    },
    {
      "cell_type": "code",
      "source": [
        "# Importamos librerías\n",
        "import torch\n",
        "import torch.nn as nn\n",
        "import torch.optim as optim\n",
        "import torchvision.transforms as transforms\n",
        "import torchvision.datasets as datasets\n",
        "from torch.utils.data import DataLoader\n",
        "import timm\n",
        "import os\n",
        "import zipfile\n",
        "import gdown\n",
        "from glob import glob\n",
        "from shutil import copy2\n",
        "from sklearn.metrics import confusion_matrix\n",
        "import seaborn as sns\n",
        "import matplotlib.pyplot as plt"
      ],
      "metadata": {
        "id": "YjnFaq2h3Ylo"
      },
      "execution_count": null,
      "outputs": []
    },
    {
      "cell_type": "code",
      "source": [
        "# Descargar y extraer dataset combinado (colon + pulmón)\n",
        "url = \"https://drive.google.com/uc?id=1VhvONYiexeSaReVATVbBsNS22UiB4Yqi\"\n",
        "zip_filename = \"dataset.zip\"\n",
        "extract_dir = \"/content/dataset\"\n",
        "\n",
        "gdown.download(url, zip_filename, quiet=False)\n",
        "with zipfile.ZipFile(zip_filename, 'r') as zip_ref:\n",
        "    zip_ref.extractall(extract_dir)\n",
        "\n",
        "# Rutas originales\n",
        "colon_dir = os.path.join(extract_dir, \"colon_image_sets\")\n",
        "lung_dir = os.path.join(extract_dir, \"lung_image_sets\")"
      ],
      "metadata": {
        "id": "dTSB_YR83eku",
        "colab": {
          "base_uri": "https://localhost:8080/"
        },
        "outputId": "190b5e1a-d90a-4b0a-d2ef-4bdad7f7328f"
      },
      "execution_count": null,
      "outputs": [
        {
          "output_type": "stream",
          "name": "stderr",
          "text": [
            "Downloading...\n",
            "From (original): https://drive.google.com/uc?id=1VhvONYiexeSaReVATVbBsNS22UiB4Yqi\n",
            "From (redirected): https://drive.google.com/uc?id=1VhvONYiexeSaReVATVbBsNS22UiB4Yqi&confirm=t&uuid=cd97daee-865d-40df-b0cc-78f0514415a9\n",
            "To: /content/dataset.zip\n",
            "100%|██████████| 1.89G/1.89G [00:21<00:00, 89.5MB/s]\n"
          ]
        }
      ]
    },
    {
      "cell_type": "code",
      "source": [
        "# Crear estructura unificada\n",
        "UNIFIED_DATASET = \"/content/unified_dataset\"\n",
        "TRAIN_DIR = os.path.join(UNIFIED_DATASET, \"train\")\n",
        "VAL_DIR = os.path.join(UNIFIED_DATASET, \"val\")\n",
        "TEST_DIR = os.path.join(UNIFIED_DATASET, \"test\")\n",
        "CLASSES = [\"colon_aca\", \"colon_n\", \"lung_aca\", \"lung_n\", \"lung_scc\"]\n",
        "for folder in [TRAIN_DIR, VAL_DIR, TEST_DIR]:\n",
        "    for class_name in CLASSES:\n",
        "        os.makedirs(os.path.join(folder, class_name), exist_ok=True)\n",
        "\n",
        "# Unir imágenes por clase\n",
        "ORIGINS = {\n",
        "    \"colon_aca\": os.path.join(colon_dir, \"colon_aca\"),\n",
        "    \"colon_n\": os.path.join(colon_dir, \"colon_n\"),\n",
        "    \"lung_aca\": os.path.join(lung_dir, \"lung_aca\"),\n",
        "    \"lung_n\": os.path.join(lung_dir, \"lung_n\"),\n",
        "    \"lung_scc\": os.path.join(lung_dir, \"lung_scc\"),\n",
        "}\n",
        "\n",
        "TRAIN_RATIO = 0.8\n",
        "VAL_RATIO = 0.1\n",
        "TEST_RATIO = 0.1\n",
        "\n",
        "for class_name, path in ORIGINS.items():\n",
        "    image_paths = glob(os.path.join(path, '*.jpeg'))\n",
        "    image_paths.sort()\n",
        "    n = len(image_paths)\n",
        "    n_train = int(n * TRAIN_RATIO)\n",
        "    n_val = int(n * VAL_RATIO)\n",
        "\n",
        "    for img in image_paths[:n_train]:\n",
        "        copy2(img, os.path.join(TRAIN_DIR, class_name))\n",
        "    for img in image_paths[n_train:n_train+n_val]:\n",
        "        copy2(img, os.path.join(VAL_DIR, class_name))\n",
        "    for img in image_paths[n_train+n_val:]:\n",
        "        copy2(img, os.path.join(TEST_DIR, class_name))\n",
        "\n",
        "# Transformaciones\n",
        "IMG_SIZE = 768\n",
        "BATCH_SIZE = 8\n",
        "EPOCHS = 5\n",
        "DEVICE = torch.device(\"cuda\" if torch.cuda.is_available() else \"cpu\")\n",
        "\n",
        "transform = transforms.Compose([\n",
        "    transforms.Resize((IMG_SIZE, IMG_SIZE)),\n",
        "    transforms.ToTensor(),\n",
        "    transforms.Normalize([0.485, 0.456, 0.406], [0.229, 0.224, 0.225])\n",
        "])\n",
        "\n",
        "train_dataset = datasets.ImageFolder(TRAIN_DIR, transform=transform)\n",
        "val_dataset = datasets.ImageFolder(VAL_DIR, transform=transform)\n",
        "test_dataset = datasets.ImageFolder(TEST_DIR, transform=transform)\n",
        "\n",
        "train_loader = DataLoader(train_dataset, batch_size=BATCH_SIZE, shuffle=True, num_workers=2)\n",
        "val_loader = DataLoader(val_dataset, batch_size=BATCH_SIZE, shuffle=False, num_workers=2)\n",
        "test_loader = DataLoader(test_dataset, batch_size=BATCH_SIZE, shuffle=False, num_workers=2)\n",
        "\n",
        "# Modelo EfficientNet-B4\n",
        "model = timm.create_model(\"efficientnet_b4\", pretrained=True)\n",
        "num_features = model.classifier.in_features\n",
        "model.classifier = nn.Linear(num_features, len(CLASSES))\n",
        "model = model.to(DEVICE)\n",
        "\n",
        "criterion = nn.CrossEntropyLoss()\n",
        "optimizer = optim.Adam(model.parameters(), lr=0.0001)"
      ],
      "metadata": {
        "id": "Zvjw3yFH3kEm",
        "colab": {
          "base_uri": "https://localhost:8080/",
          "height": 153,
          "referenced_widgets": [
            "e822bba04dc2478eaff27ef275996ac4",
            "3a7b0f2eba664d98bd1bb36be61863c0",
            "3b80d89b4b91474f850a92a7aa3ea59c",
            "5a6440db61544fb9a4dae30967600a86",
            "8a0e584ffe9c40a69c3da45a247a4aee",
            "ff5c33f323be40518b5239edbf38e6b0",
            "bdcc110614f34bf19ab6214a1c8ced7f",
            "07df4edcccb34ab5b56f5bb183da1bfa",
            "3d283d5f83254523a294b9d8d4c14f4a",
            "f72148d25fae488ebee624fe130b9719",
            "cd2f5ea18bc84001bb7164a013ca01db"
          ]
        },
        "outputId": "e970176f-776b-4663-97f1-434acba71619"
      },
      "execution_count": null,
      "outputs": [
        {
          "output_type": "stream",
          "name": "stderr",
          "text": [
            "/usr/local/lib/python3.11/dist-packages/huggingface_hub/utils/_auth.py:94: UserWarning: \n",
            "The secret `HF_TOKEN` does not exist in your Colab secrets.\n",
            "To authenticate with the Hugging Face Hub, create a token in your settings tab (https://huggingface.co/settings/tokens), set it as secret in your Google Colab and restart your session.\n",
            "You will be able to reuse this secret in all of your notebooks.\n",
            "Please note that authentication is recommended but still optional to access public models or datasets.\n",
            "  warnings.warn(\n"
          ]
        },
        {
          "output_type": "display_data",
          "data": {
            "text/plain": [
              "model.safetensors:   0%|          | 0.00/77.9M [00:00<?, ?B/s]"
            ],
            "application/vnd.jupyter.widget-view+json": {
              "version_major": 2,
              "version_minor": 0,
              "model_id": "e822bba04dc2478eaff27ef275996ac4"
            }
          },
          "metadata": {}
        }
      ]
    },
    {
      "cell_type": "code",
      "source": [
        "# Entrenamiento\n",
        "def train_model(model, train_loader, val_loader, criterion, optimizer, epochs):\n",
        "    for epoch in range(epochs):\n",
        "        model.train()\n",
        "        running_loss = 0.0\n",
        "        for images, labels in train_loader:\n",
        "            images, labels = images.to(DEVICE), labels.to(DEVICE)\n",
        "            optimizer.zero_grad()\n",
        "            outputs = model(images)\n",
        "            loss = criterion(outputs, labels)\n",
        "            loss.backward()\n",
        "            optimizer.step()\n",
        "            running_loss += loss.item()\n",
        "        print(f\"Epoch {epoch+1}/{epochs}, Loss: {running_loss/len(train_loader):.4f}\")\n",
        "\n",
        "train_model(model, train_loader, val_loader, criterion, optimizer, EPOCHS)\n"
      ],
      "metadata": {
        "id": "REgCeFHt30Ts",
        "colab": {
          "base_uri": "https://localhost:8080/"
        },
        "outputId": "c0c4449a-f401-42ed-e261-06825b9cb34f"
      },
      "execution_count": null,
      "outputs": [
        {
          "output_type": "stream",
          "name": "stdout",
          "text": [
            "Epoch 1/5, Loss: 0.1387\n",
            "Epoch 2/5, Loss: 0.0185\n",
            "Epoch 3/5, Loss: 0.0072\n",
            "Epoch 4/5, Loss: 0.0079\n",
            "Epoch 5/5, Loss: 0.0071\n"
          ]
        }
      ]
    },
    {
      "cell_type": "code",
      "source": [
        "# Evaluación\n",
        "def evaluate_model(model, dataloader):\n",
        "    model.eval()\n",
        "    correct = 0\n",
        "    total = 0\n",
        "    all_preds = []\n",
        "    all_labels = []\n",
        "    with torch.no_grad():\n",
        "        for images, labels in dataloader:\n",
        "            images, labels = images.to(DEVICE), labels.to(DEVICE)\n",
        "            outputs = model(images)\n",
        "            _, predicted = torch.max(outputs, 1)\n",
        "            total += labels.size(0)\n",
        "            correct += (predicted == labels).sum().item()\n",
        "            all_preds.extend(predicted.cpu().numpy())\n",
        "            all_labels.extend(labels.cpu().numpy())\n",
        "    acc = correct / total\n",
        "    return acc, all_preds, all_labels\n",
        "\n",
        "train_acc, _, _ = evaluate_model(model, train_loader)\n",
        "val_acc, _, _ = evaluate_model(model, val_loader)\n",
        "test_acc, test_preds, test_labels = evaluate_model(model, test_loader)\n",
        "\n",
        "print(f\"Train Accuracy: {train_acc:.4f}\")\n",
        "print(f\"Validation Accuracy: {val_acc:.4f}\")\n",
        "print(f\"Test Accuracy: {test_acc:.4f}\")"
      ],
      "metadata": {
        "id": "fw3wr8Ag34I8",
        "colab": {
          "base_uri": "https://localhost:8080/"
        },
        "outputId": "96edd0ea-63ad-4ac8-ec81-96e781c4cc83"
      },
      "execution_count": null,
      "outputs": [
        {
          "output_type": "stream",
          "name": "stdout",
          "text": [
            "Train Accuracy: 1.0000\n",
            "Validation Accuracy: 0.9996\n",
            "Test Accuracy: 0.9996\n"
          ]
        }
      ]
    },
    {
      "cell_type": "code",
      "source": [
        "# Matriz de confusión\n",
        "cm = confusion_matrix(test_labels, test_preds)\n",
        "sns.heatmap(cm, annot=True, fmt='d', cmap='Blues', xticklabels=CLASSES, yticklabels=CLASSES)\n",
        "plt.xlabel(\"Predicción\")\n",
        "plt.ylabel(\"Real\")\n",
        "plt.title(\"Matriz de Confusión - Test\")\n",
        "plt.show()\n"
      ],
      "metadata": {
        "id": "8FHOZhvo38nH",
        "colab": {
          "base_uri": "https://localhost:8080/",
          "height": 472
        },
        "outputId": "875eda77-997c-4f65-8e7b-dd9f4710c184"
      },
      "execution_count": null,
      "outputs": [
        {
          "output_type": "display_data",
          "data": {
            "text/plain": [
              "<Figure size 640x480 with 2 Axes>"
            ],
            "image/png": "[encoded data removed]"
          },
          "metadata": {}
        }
      ]
    },
    {
      "cell_type": "code",
      "source": [
        "# Guardar modelo\n",
        "torch.save(model.state_dict(), \"efficientnet_b4_colon_lung.pth\")\n"
      ],
      "metadata": {
        "id": "MjDfcG1y4BCn"
      },
      "execution_count": null,
      "outputs": []
    }
  ]
}